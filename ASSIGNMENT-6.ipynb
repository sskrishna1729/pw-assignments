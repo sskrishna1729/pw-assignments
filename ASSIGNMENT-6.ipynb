{
 "cells": [
  {
   "cell_type": "markdown",
   "id": "87efaec8-a5f9-4191-829e-83b64d628361",
   "metadata": {},
   "source": [
    "# OOPS TASK ASIGNMENT"
   ]
  },
  {
   "cell_type": "markdown",
   "id": "f8a49c3e-ca4f-476e-839f-46df1a7e8e38",
   "metadata": {},
   "source": [
    "# QUESTION-1"
   ]
  },
  {
   "cell_type": "code",
   "execution_count": 2,
   "id": "4a803431-8ee7-43f4-b6dc-54798a868e3d",
   "metadata": {},
   "outputs": [],
   "source": [
    "# Create a vehicle class with an init method having instance variables as name_of_vehicle, max_speed and average_of_vehicle."
   ]
  },
  {
   "cell_type": "code",
   "execution_count": 3,
   "id": "63a5a3d9-1486-4ab1-9f2b-71f3e2eef211",
   "metadata": {},
   "outputs": [
    {
     "name": "stdout",
     "output_type": "stream",
     "text": [
      "Car\n",
      "200\n",
      "12\n",
      "Motorcycle\n",
      "180\n",
      "20\n"
     ]
    }
   ],
   "source": [
    "class Vehicle:\n",
    "    def __init__(self, name_of_vehicle, max_speed, average_of_vehicle):\n",
    "        self.name_of_vehicle = name_of_vehicle\n",
    "        self.max_speed = max_speed\n",
    "        self.average_of_vehicle = average_of_vehicle\n",
    "\n",
    "vehicle1 = Vehicle(\"Car\", 200, 12)\n",
    "vehicle2 = Vehicle(\"Motorcycle\", 180, 20)\n",
    "\n",
    "print(vehicle1.name_of_vehicle) \n",
    "print(vehicle1.max_speed)\n",
    "print(vehicle1.average_of_vehicle)\n",
    "\n",
    "print(vehicle2.name_of_vehicle)\n",
    "print(vehicle2.max_speed)\n",
    "print(vehicle2.average_of_vehicle)"
   ]
  },
  {
   "cell_type": "markdown",
   "id": "2cbe956e-b8b0-4f2a-bc5a-4c8ab7b6bf0d",
   "metadata": {},
   "source": [
    "# QUESTION-2"
   ]
  },
  {
   "cell_type": "code",
   "execution_count": null,
   "id": "aa3f3f45-0ffe-450e-97c8-60b1025f6a53",
   "metadata": {},
   "outputs": [],
   "source": [
    "#Create a child class car from the vehicle class created in Que 1, which will inherit the vehicle class.\n",
    "#Create a method named seating_capacity which takes capacity as an argument and returns the name of the vehicle and its seating capacity."
   ]
  },
  {
   "cell_type": "code",
   "execution_count": 4,
   "id": "39ba50b0-9897-493c-9659-8ad13c8056b3",
   "metadata": {},
   "outputs": [
    {
     "name": "stdout",
     "output_type": "stream",
     "text": [
      "Sedan\n",
      "180\n",
      "5\n",
      "SUV\n",
      "200\n",
      "7\n",
      "The Sedan has a seating capacity of 5.\n",
      "The SUV has a seating capacity of 7.\n"
     ]
    }
   ],
   "source": [
    "class Vehicle:\n",
    "    def __init__(self, name_of_vehicle, max_speed, average_of_vehicle):\n",
    "        self.name_of_vehicle = name_of_vehicle\n",
    "        self.max_speed = max_speed\n",
    "        self.average_of_vehicle = average_of_vehicle\n",
    "\n",
    "class Car(Vehicle):\n",
    "    def seating_capacity(self, capacity):\n",
    "        return f\"The {self.name_of_vehicle} has a seating capacity of {capacity}.\"\n",
    "\n",
    "car1 = Car(\"Sedan\", 180, 5)\n",
    "car2 = Car(\"SUV\", 200, 7)\n",
    "\n",
    "print(car1.name_of_vehicle)\n",
    "print(car1.max_speed)\n",
    "print(car1.average_of_vehicle)\n",
    "\n",
    "print(car2.name_of_vehicle)\n",
    "print(car2.max_speed)\n",
    "print(car2.average_of_vehicle)\n",
    "\n",
    "print(car1.seating_capacity(5))\n",
    "print(car2.seating_capacity(7))"
   ]
  },
  {
   "cell_type": "markdown",
   "id": "7992f284-503d-472f-b3ca-8b755d083546",
   "metadata": {},
   "source": [
    "# QUESTION-3"
   ]
  },
  {
   "cell_type": "code",
   "execution_count": 6,
   "id": "24ef429e-1943-427a-8ab4-99f8d2b8a136",
   "metadata": {},
   "outputs": [],
   "source": [
    "# What is multiple inheritance? Write a python code to demonstrate multiple inheritance.??"
   ]
  },
  {
   "cell_type": "markdown",
   "id": "667eb661-0e12-4bef-9202-11feb1e6e453",
   "metadata": {},
   "source": [
    "Multiple inheritance is a feature of object-oriented programming where a class can inherit attributes and methods from multiple parent classes. This allows the child class to combine and inherit functionalities from different source classes. In Python, multiple inheritance is supported by specifying multiple parent classes separated by commas when defining a child class."
   ]
  },
  {
   "cell_type": "markdown",
   "id": "0b267f95-1d20-4cda-86c2-d1b09924327d",
   "metadata": {},
   "source": [
    "class A:\n",
    "    def method_a(self):\n",
    "        print(\"This is method A.\")\n",
    "\n",
    "class B:\n",
    "    def method_b(self):\n",
    "        print(\"This is method B.\")\n",
    "\n",
    "class C(A, B):\n",
    "    def method_c(self):\n",
    "        print(\"This is method C.\")\n",
    "\n",
    "obj = C()\n",
    "obj.method_a()\n",
    "obj.method_b()\n",
    "obj.method_c()"
   ]
  },
  {
   "cell_type": "markdown",
   "id": "032226b7-2abb-4e46-a58d-ae6e5587c2cc",
   "metadata": {},
   "source": [
    "# QUESTION-4"
   ]
  },
  {
   "cell_type": "code",
   "execution_count": 8,
   "id": "2ba97645-7af8-4c3f-b355-b35ced9ea854",
   "metadata": {},
   "outputs": [],
   "source": [
    "# What are getter and setter in python? Create a class and create a getter and a setter method in this class???"
   ]
  },
  {
   "cell_type": "markdown",
   "id": "d311be69-af26-41fd-ae42-c93e8075980b",
   "metadata": {},
   "source": [
    "In Python, getters and setters are methods used to access and modify the attributes (properties) of a class. They provide a way to control the access and modification of the class's attributes, encapsulating them within methods and allowing for data validation or additional logic."
   ]
  },
  {
   "cell_type": "code",
   "execution_count": 23,
   "id": "4fc5d5d0-51f5-4ab6-92ca-59dfd68257f2",
   "metadata": {},
   "outputs": [
    {
     "name": "stdout",
     "output_type": "stream",
     "text": [
      "ramakrishna\n",
      "21\n",
      "saikrishna\n"
     ]
    }
   ],
   "source": [
    "class Person:\n",
    "    def __init__(self, name, age):\n",
    "        self._name = name\n",
    "        self._age = age\n",
    "\n",
    "    def get_name(self):\n",
    "        return self._name\n",
    "\n",
    "    def set_name(self, name):\n",
    "        self._name = name\n",
    "p1=Person(\"ramakrishna\",21)\n",
    "print(p1._name)\n",
    "print(p1._age)\n",
    "p1.set_name(\"saikrishna\")\n",
    "print(p1.get_name())"
   ]
  },
  {
   "cell_type": "markdown",
   "id": "3a604e8b-84dd-4359-9b86-6054592b4a83",
   "metadata": {},
   "source": [
    "# QUESTION-5"
   ]
  },
  {
   "cell_type": "code",
   "execution_count": 24,
   "id": "edcf8235-4ed8-4372-a779-f3000f6ff32d",
   "metadata": {},
   "outputs": [],
   "source": [
    "# Q5.What is method overriding in python? Write a python code to demonstrate method overriding.???"
   ]
  },
  {
   "cell_type": "markdown",
   "id": "88d0298d-48cb-4eb2-8217-de0c015b8563",
   "metadata": {},
   "source": [
    "### Method overriding is a feature of object-oriented programming that allows a subclass to provide a different implementation of a method that is already defined in its superclass. When a method is overridden, the version of the method in the subclass is used instead of the version inherited from the superclass."
   ]
  },
  {
   "cell_type": "code",
   "execution_count": 25,
   "id": "78ed9019-5a7b-4112-974d-bee240b8a76f",
   "metadata": {},
   "outputs": [
    {
     "name": "stdout",
     "output_type": "stream",
     "text": [
      "Calculating area in the Shape class.\n",
      "Calculating area in the Rectangle class.\n"
     ]
    }
   ],
   "source": [
    "class Shape:\n",
    "    def area(self):\n",
    "        print(\"Calculating area in the Shape class.\")\n",
    "\n",
    "class Rectangle(Shape):\n",
    "    def area(self):\n",
    "        print(\"Calculating area in the Rectangle class.\")\n",
    "\n",
    "shape = Shape()\n",
    "shape.area()\n",
    "\n",
    "rectangle = Rectangle()\n",
    "rectangle.area()"
   ]
  },
  {
   "cell_type": "code",
   "execution_count": null,
   "id": "82112e1d-3af5-43fa-bf11-6107dde83afd",
   "metadata": {},
   "outputs": [],
   "source": []
  }
 ],
 "metadata": {
  "kernelspec": {
   "display_name": "Python 3 (ipykernel)",
   "language": "python",
   "name": "python3"
  },
  "language_info": {
   "codemirror_mode": {
    "name": "ipython",
    "version": 3
   },
   "file_extension": ".py",
   "mimetype": "text/x-python",
   "name": "python",
   "nbconvert_exporter": "python",
   "pygments_lexer": "ipython3",
   "version": "3.10.8"
  }
 },
 "nbformat": 4,
 "nbformat_minor": 5
}
