{
 "cells": [
  {
   "cell_type": "markdown",
   "id": "0f58702c-828c-43bb-9346-3a4ffddb3297",
   "metadata": {},
   "source": [
    "# OOPS ASSIGNMENT"
   ]
  },
  {
   "cell_type": "markdown",
   "id": "949f0462-5ca8-4df8-a5fa-3f3d23eeb501",
   "metadata": {},
   "source": [
    "# QUESTION-1"
   ]
  },
  {
   "cell_type": "code",
   "execution_count": 1,
   "id": "5bdcd96c-1962-4b83-a25d-b83ca14ae242",
   "metadata": {},
   "outputs": [],
   "source": [
    "# 1.Explain Class and Object with respect to Object-Oriented Programming. Give a suitable example."
   ]
  },
  {
   "cell_type": "code",
   "execution_count": null,
   "id": "159d5527-4761-4d6e-a3e8-f8a5997c04b9",
   "metadata": {},
   "outputs": [],
   "source": [
    "\"\"\" In object-oriented programming (OOP), \n",
    "    a class is a blueprint or template that defines the attributes (data) and behaviors (methods) that objects of that class will have.\n",
    "    It serves as a blueprint from which objects are created.\n",
    "\n",
    "    An object, on the other hand, is an instance of a class. \n",
    "    It represents a specific entity or instance that possesses the attributes and behaviors defined by its class.\n",
    "    Objects are created using the class as a blueprint, and each object has its own unique state and behavior.\n",
    "\"\"\"\n",
    "# lets take an example of car:"
   ]
  },
  {
   "cell_type": "code",
   "execution_count": 3,
   "id": "f5c01b6c-61a9-4cfa-a566-05c5d50376d6",
   "metadata": {},
   "outputs": [],
   "source": [
    "class Car:\n",
    "    def __init__(self, make, model, year):\n",
    "        self.make = make\n",
    "        self.model = model\n",
    "        self.year = year\n",
    "\n",
    "    def start_engine(self):\n",
    "        print(\"The car's engine has started.\")\n",
    "\n",
    "    def stop_engine(self):\n",
    "        print(\"The car's engine has stopped.\")\n",
    "car1 = Car(\"Toyota\", \"Camry\", 2022)\n",
    "car2 = Car(\"Honda\", \"Civic\", 2021)"
   ]
  },
  {
   "cell_type": "code",
   "execution_count": 4,
   "id": "25d04472-7740-4771-846c-a530710b3400",
   "metadata": {},
   "outputs": [],
   "source": [
    "# car is a class and car1,car2 are objects"
   ]
  },
  {
   "cell_type": "markdown",
   "id": "0ede713c-2545-48ea-8c4f-ff9cb3e530de",
   "metadata": {},
   "source": [
    "# QUESTION-2"
   ]
  },
  {
   "cell_type": "code",
   "execution_count": 5,
   "id": "a2faabe7-1fed-423a-bd0f-f5e9f11bf02e",
   "metadata": {},
   "outputs": [],
   "source": [
    "# 2.Name the four pillars of OOPs."
   ]
  },
  {
   "cell_type": "markdown",
   "id": "0780a2e6-d461-42b4-8e7e-48c488bfbfe6",
   "metadata": {},
   "source": [
    "#### the four pillars of OOPS are:\n",
    " 1. Inheritance\n",
    " 2. Encapsulation\n",
    " 3. polymorphism\n",
    " 4. Abstraction"
   ]
  },
  {
   "cell_type": "markdown",
   "id": "98525653-d3ff-4cab-8fce-a2643321d18d",
   "metadata": {},
   "source": [
    "# QUESTION-3"
   ]
  },
  {
   "cell_type": "code",
   "execution_count": 6,
   "id": "198c30d4-f763-46ca-a58e-daf07825a353",
   "metadata": {},
   "outputs": [],
   "source": [
    "# 3.Explain why the __init__() function is used. Give a suitable example."
   ]
  },
  {
   "cell_type": "markdown",
   "id": "2ebcb9af-6679-4022-9178-1ddd53861617",
   "metadata": {},
   "source": [
    "## The __init__() function in Python is a special method that is automatically called when an object is created from a class. It is also known as the constructor method. The primary purpose of the __init__() function is to initialize the attributes of an object with the provided values."
   ]
  },
  {
   "cell_type": "markdown",
   "id": "a33f317a-03bd-4866-9fbb-5c1a1f804456",
   "metadata": {},
   "source": [
    "## The __init__() method is defined within a class and takes the self parameter as the first argument, which represents the instance of the class being created. It can also take additional parameters that are used to initialize the attributes of the object."
   ]
  },
  {
   "cell_type": "code",
   "execution_count": 7,
   "id": "33bab2ff-2bce-4a71-8128-514bb5e907e5",
   "metadata": {},
   "outputs": [
    {
     "name": "stdout",
     "output_type": "stream",
     "text": [
      "My name is ramakrishna and I am 25 years old.\n",
      "My name is Balakrishna and I am 30 years old.\n"
     ]
    }
   ],
   "source": [
    "class Person:\n",
    "    def __init__(self, name, age):\n",
    "        self.name = name\n",
    "        self.age = age\n",
    "\n",
    "    def introduce(self):\n",
    "        print(f\"My name is {self.name} and I am {self.age} years old.\")\n",
    "\n",
    "\n",
    "person1 = Person(\"ramakrishna\", 25)\n",
    "person2 = Person(\"Balakrishna\", 30)\n",
    "\n",
    "person1.introduce()\n",
    "person2.introduce()"
   ]
  },
  {
   "cell_type": "markdown",
   "id": "75acdd1f-fd8e-4162-bb27-d48578cd2238",
   "metadata": {},
   "source": [
    "# QUESTION-4"
   ]
  },
  {
   "cell_type": "code",
   "execution_count": 8,
   "id": "2640ba06-2ab0-429b-8118-1cb837b0577c",
   "metadata": {},
   "outputs": [],
   "source": [
    "# Why self is used in OOPs?"
   ]
  },
  {
   "cell_type": "markdown",
   "id": "89929413-2517-4643-a3b0-cfdafc3cd54c",
   "metadata": {},
   "source": [
    "## In object-oriented programming (OOP), the self keyword is used as a convention to refer to the instance of a class within its own methods. It acts as a reference to the current object being manipulated or accessed."
   ]
  },
  {
   "cell_type": "markdown",
   "id": "fd5fad37-8969-4407-93a6-4507c739a083",
   "metadata": {},
   "source": [
    "# QUESTION-5"
   ]
  },
  {
   "cell_type": "code",
   "execution_count": 9,
   "id": "f4c8d7fd-0255-4a81-89ce-679eedc5e3e4",
   "metadata": {},
   "outputs": [],
   "source": [
    "# What is inheritance? Give an example for each type of inheritance.??"
   ]
  },
  {
   "cell_type": "markdown",
   "id": "08c7bca2-4e74-43d7-9f9d-3ad137090193",
   "metadata": {},
   "source": [
    "## Inheritance is a fundamental concept in object-oriented programming (OOP) that allows a class to inherit properties (attributes and methods) from another class. The class that inherits is called the \"child\" or \"derived\" class, and the class being inherited from is called the \"parent\" or \"base\" class. Inheritance promotes code reuse, extensibility, and supports the concept of hierarchical classification."
   ]
  },
  {
   "cell_type": "code",
   "execution_count": 11,
   "id": "2c460f6e-7698-4557-bd99-b4c05b14188b",
   "metadata": {},
   "outputs": [],
   "source": [
    "#  1.SINGLE INHERITANCE :Single inheritance refers to a situation where a child class inherits from a single parent class. "
   ]
  },
  {
   "cell_type": "code",
   "execution_count": 12,
   "id": "fd71c43c-cc68-48de-9217-9e02e3a9b254",
   "metadata": {},
   "outputs": [
    {
     "name": "stdout",
     "output_type": "stream",
     "text": [
      "Animal is eating...\n",
      "Dog is barking...\n"
     ]
    }
   ],
   "source": [
    "class Animal:\n",
    "    def eat(self):\n",
    "        print(\"Animal is eating...\")\n",
    "\n",
    "class Dog(Animal):\n",
    "    def bark(self):\n",
    "        print(\"Dog is barking...\")\n",
    "\n",
    "dog = Dog()\n",
    "dog.eat()\n",
    "dog.bark()"
   ]
  },
  {
   "cell_type": "code",
   "execution_count": 13,
   "id": "f45ac9e6-38b1-408e-9290-7bdb5f077756",
   "metadata": {},
   "outputs": [],
   "source": [
    "# 2. MULTIPLE INHERITANCE: Multiple inheritance refers to a situation where a child class inherits from multiple parent classes.\n",
    "#                          It allows a class to inherit properties from more than one class"
   ]
  },
  {
   "cell_type": "code",
   "execution_count": 14,
   "id": "3511c587-504f-4aa2-99c1-3d4007a0585b",
   "metadata": {},
   "outputs": [
    {
     "name": "stdout",
     "output_type": "stream",
     "text": [
      "Animal is moving...\n",
      "Bird is flying...\n"
     ]
    }
   ],
   "source": [
    "class Animal:\n",
    "    def move(self):\n",
    "        print(\"Animal is moving...\")\n",
    "\n",
    "class Bird:\n",
    "    def fly(self):\n",
    "        print(\"Bird is flying...\")\n",
    "\n",
    "class FlyingFish(Animal, Bird):\n",
    "    pass\n",
    "\n",
    "fish = FlyingFish()\n",
    "fish.move()\n",
    "fish.fly() "
   ]
  },
  {
   "cell_type": "code",
   "execution_count": 15,
   "id": "2757eb14-18ae-43b2-9670-946fa10d9372",
   "metadata": {},
   "outputs": [],
   "source": [
    "# 3.Multilevel Inheritance:\n",
    "#                         Multilevel inheritance refers to a situation where a child class inherits from another child class, forming a chain of inheritance"
   ]
  },
  {
   "cell_type": "code",
   "execution_count": 16,
   "id": "05551bea-e593-4fb1-94a3-ff29a8dc949f",
   "metadata": {},
   "outputs": [
    {
     "name": "stdout",
     "output_type": "stream",
     "text": [
      "Animal is eating...\n",
      "Mammal is walking...\n",
      "Dog is barking...\n"
     ]
    }
   ],
   "source": [
    "class Animal:\n",
    "    def eat(self):\n",
    "        print(\"Animal is eating...\")\n",
    "\n",
    "class Mammal(Animal):\n",
    "    def walk(self):\n",
    "        print(\"Mammal is walking...\")\n",
    "\n",
    "class Dog(Mammal):\n",
    "    def bark(self):\n",
    "        print(\"Dog is barking...\")\n",
    "\n",
    "dog = Dog()\n",
    "dog.eat()\n",
    "dog.walk()\n",
    "dog.bark()"
   ]
  },
  {
   "cell_type": "code",
   "execution_count": 17,
   "id": "c1efcdc7-4a22-4f41-968c-ac50614d61db",
   "metadata": {},
   "outputs": [],
   "source": [
    "# 4.Hierarchical Inheritance: Hierarchical inheritance refers to a situation where multiple child classes inherit from a single parent class."
   ]
  },
  {
   "cell_type": "code",
   "execution_count": 18,
   "id": "b7d5eb12-b16f-4aa5-9058-a22a55b3c025",
   "metadata": {},
   "outputs": [
    {
     "name": "stdout",
     "output_type": "stream",
     "text": [
      "Animal is eating...\n",
      "Dog is barking...\n"
     ]
    }
   ],
   "source": [
    "class Animal:\n",
    "    def eat(self):\n",
    "        print(\"Animal is eating...\")\n",
    "\n",
    "class Dog(Animal):\n",
    "    def bark(self):\n",
    "        print(\"Dog is barking...\")\n",
    "\n",
    "class Cat(Animal):\n",
    "    def meow(self):\n",
    "        print(\"Cat is meowing...\")\n",
    "\n",
    "dog = Dog()\n",
    "dog.eat()\n",
    "dog.bark()"
   ]
  },
  {
   "cell_type": "code",
   "execution_count": null,
   "id": "70ea3c1d-cff8-4b17-88d0-414088e4bfc0",
   "metadata": {},
   "outputs": [],
   "source": []
  }
 ],
 "metadata": {
  "kernelspec": {
   "display_name": "Python 3 (ipykernel)",
   "language": "python",
   "name": "python3"
  },
  "language_info": {
   "codemirror_mode": {
    "name": "ipython",
    "version": 3
   },
   "file_extension": ".py",
   "mimetype": "text/x-python",
   "name": "python",
   "nbconvert_exporter": "python",
   "pygments_lexer": "ipython3",
   "version": "3.10.8"
  }
 },
 "nbformat": 4,
 "nbformat_minor": 5
}
