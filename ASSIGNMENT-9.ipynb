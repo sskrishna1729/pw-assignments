{
 "cells": [
  {
   "cell_type": "markdown",
   "id": "e05b08a0-2c1c-45b0-9aac-bb0cca870607",
   "metadata": {},
   "source": [
    "# Multithreading Assignment"
   ]
  },
  {
   "cell_type": "markdown",
   "id": "832defc2-d895-4028-acae-bdb38b44454f",
   "metadata": {},
   "source": [
    "# QUESTION-1"
   ]
  },
  {
   "cell_type": "code",
   "execution_count": 1,
   "id": "71b7f448-84c4-48bd-be19-caee5025f6c5",
   "metadata": {},
   "outputs": [],
   "source": [
    "# What is multithreading in python? hy is it used? Name the module used to handle threads in python"
   ]
  },
  {
   "cell_type": "markdown",
   "id": "105f4ed7-b777-475d-8f20-77f7726c18e0",
   "metadata": {},
   "source": [
    "## Multithreading in Python refers to the ability to run multiple threads (smaller units of execution) concurrently within a single process. Each thread represents a separate flow of execution, allowing multiple tasks to be performed simultaneously.\n",
    "## Multithreading is used to achieve concurrency and improve the responsiveness of applications. It allows for efficient utilization of system resources, particularly in scenarios where I/O operations or tasks with waiting periods are involved. By using threads, different parts of a program can execute concurrently, enabling faster execution and a smoother user experience.\n",
    "## The module used to handle threads in Python is called threading. The threading module provides a high-level interface for creating and managing threads. It offers various features and synchronization primitives, such as locks and semaphores, to coordinate the execution of threads and handle shared resources safely."
   ]
  },
  {
   "cell_type": "markdown",
   "id": "64ef9d31-4573-4eae-b1ff-57d87e2442e3",
   "metadata": {},
   "source": [
    "# QUESTION-2"
   ]
  },
  {
   "cell_type": "code",
   "execution_count": null,
   "id": "cf6442a9-d0a5-48a7-9339-f688303ed6ba",
   "metadata": {},
   "outputs": [],
   "source": [
    "# Why threading module used? Write the use of the following functions\n",
    "\"\"\" activeCount\n",
    "    currentThread\n",
    "    enumerate\n",
    "\"\"\""
   ]
  },
  {
   "cell_type": "markdown",
   "id": "bdd43d69-1471-4c3a-8059-3577b3955216",
   "metadata": {},
   "source": [
    "### The threading module in Python is used to handle threads and implement multithreading in Python applications. It provides a high-level interface for creating, managing, and synchronizing threads. Here's the use of the following functions from the threading module:\n",
    "### activeCount(): This function returns the number of Thread objects currently alive (i.e., in the \"active\" state). It helps you determine the number of threads running in your program at a given moment.\n",
    "### currentThread(): This function returns the current Thread object corresponding to the caller's thread of execution. It allows you to get a reference to the thread that is currently running the code.\n",
    "### enumerate(): This function returns a list of all currently active Thread objects. It is useful for obtaining a list of all threads running in your program."
   ]
  },
  {
   "cell_type": "code",
   "execution_count": 8,
   "id": "b5192515-c934-406b-8294-1d8ee72f571c",
   "metadata": {},
   "outputs": [
    {
     "name": "stdout",
     "output_type": "stream",
     "text": [
      "Thread function\n",
      "Thread function\n",
      "Thread function\n",
      "Thread function\n",
      "Thread function\n",
      "Active threads count: 8\n"
     ]
    },
    {
     "name": "stderr",
     "output_type": "stream",
     "text": [
      "/tmp/ipykernel_5839/3104778667.py:11: DeprecationWarning: activeCount() is deprecated, use active_count() instead\n",
      "  count = threading.activeCount()\n"
     ]
    }
   ],
   "source": [
    "# active count:\n",
    "import threading\n",
    "\n",
    "def my_function():\n",
    "    print(\"Thread function\")\n",
    "threads = []\n",
    "for i in range(5):\n",
    "    t = threading.Thread(target=my_function)\n",
    "    threads.append(t)\n",
    "    t.start()\n",
    "count = threading.activeCount()\n",
    "print(\"Active threads count:\", count)"
   ]
  },
  {
   "cell_type": "code",
   "execution_count": 6,
   "id": "819c79eb-83ae-4ecf-a099-2b969d272464",
   "metadata": {},
   "outputs": [
    {
     "name": "stdout",
     "output_type": "stream",
     "text": [
      "Current thread name: Thread-10 (my_function)\n"
     ]
    },
    {
     "name": "stderr",
     "output_type": "stream",
     "text": [
      "/tmp/ipykernel_5839/2335904671.py:5: DeprecationWarning: currentThread() is deprecated, use current_thread() instead\n",
      "  current_thread = threading.currentThread()\n"
     ]
    }
   ],
   "source": [
    "# current thread:\n",
    "import threading\n",
    "\n",
    "def my_function():\n",
    "    current_thread = threading.currentThread()\n",
    "    print(\"Current thread name:\", current_thread.name)\n",
    "t = threading.Thread(target=my_function)\n",
    "t.start()"
   ]
  },
  {
   "cell_type": "code",
   "execution_count": 9,
   "id": "96788422-8bcd-4730-ad8a-2b90aeac3adf",
   "metadata": {},
   "outputs": [
    {
     "name": "stdout",
     "output_type": "stream",
     "text": [
      "Thread function\n",
      "Thread function\n",
      "Thread function\n",
      "Thread function\n",
      "Thread function\n",
      "All threads: [<_MainThread(MainThread, started 140079388493632)>, <Thread(IOPub, started daemon 140079317964352)>, <Heartbeat(Heartbeat, started daemon 140079309571648)>, <Thread(Thread-3 (_watch_pipe_fd), started daemon 140079074895424)>, <Thread(Thread-4 (_watch_pipe_fd), started daemon 140079066502720)>, <ControlThread(Control, started daemon 140079058110016)>, <HistorySavingThread(IPythonHistorySavingThread, started 140079049717312)>, <ParentPollerUnix(Thread-2, started daemon 140079041324608)>]\n"
     ]
    }
   ],
   "source": [
    "# enumerate:\n",
    "import threading\n",
    "\n",
    "def my_function():\n",
    "    print(\"Thread function\")\n",
    "threads = []\n",
    "for i in range(5):\n",
    "    t = threading.Thread(target=my_function)\n",
    "    threads.append(t)\n",
    "    t.start()\n",
    "all_threads = threading.enumerate()\n",
    "print(\"All threads:\", all_threads)"
   ]
  },
  {
   "cell_type": "markdown",
   "id": "e8d43989-a257-4830-a299-8d0ea612ce8b",
   "metadata": {},
   "source": [
    "# QUESTION-3"
   ]
  },
  {
   "cell_type": "code",
   "execution_count": 10,
   "id": "95f29fd3-536a-4910-aadf-63731b53c06c",
   "metadata": {},
   "outputs": [],
   "source": [
    "# Explain the following functions\n",
    "# 1.run\n",
    "# 2.start\n",
    "# 3.join\n",
    "# 4.isAlive"
   ]
  },
  {
   "cell_type": "markdown",
   "id": "710faf0a-c81f-4056-9877-aac09e1c3246",
   "metadata": {},
   "source": [
    "### run(): The run() method is a user-defined method that represents the code to be executed by a thread when it is started. It contains the logic or instructions that the thread will execute. You should override this method in a subclass of threading.Thread to define the behavior of the thread.\n",
    "### start(): The start() method is used to start a thread's execution. It initializes the thread, allocates system resources, and calls the run() method. Once a thread is started, it begins executing its code concurrently with other threads in the program.\n",
    "### join(): The join() method is used to wait for a thread to complete its execution. It blocks the calling thread until the thread it is called on has finished executing. This is useful when you want to ensure that a thread has completed its task before proceeding with the rest of the program.\n",
    "### isAlive(): The isAlive() method is used to check if a thread is currently active or alive. It returns a boolean value indicating whether the thread is still executing or has completed its execution."
   ]
  },
  {
   "cell_type": "markdown",
   "id": "16a2670d-4fce-45ab-bc22-ba7f78c72975",
   "metadata": {},
   "source": [
    "# QUESTION-4"
   ]
  },
  {
   "cell_type": "code",
   "execution_count": 11,
   "id": "aedc0641-ffde-4ac2-bae4-ddb1e39b4b9a",
   "metadata": {},
   "outputs": [
    {
     "name": "stdout",
     "output_type": "stream",
     "text": [
      "Square of 1: 1\n",
      "Square of 2: 4\n",
      "Square of 3: 9\n",
      "Square of 4: 16\n",
      "Square of 5: 25\n",
      "Square of 6: 36\n",
      "Square of 7: 49\n",
      "Square of 8: 64\n",
      "Square of 9: 81\n",
      "Square of 10: 100\n",
      "Cube of 1: 1\n",
      "Cube of 2: 8\n",
      "Cube of 3: 27\n",
      "Cube of 4: 64\n",
      "Cube of 5: 125\n",
      "Cube of 6: 216\n",
      "Cube of 7: 343\n",
      "Cube of 8: 512\n",
      "Cube of 9: 729\n",
      "Cube of 10: 1000\n",
      "Threads finished.\n"
     ]
    }
   ],
   "source": [
    "import threading\n",
    "\n",
    "def print_squares():\n",
    "    for i in range(1, 11):\n",
    "        square = i ** 2\n",
    "        print(f\"Square of {i}: {square}\")\n",
    "\n",
    "def print_cubes():\n",
    "    for i in range(1, 11):\n",
    "        cube = i ** 3\n",
    "        print(f\"Cube of {i}: {cube}\")\n",
    "\n",
    "t1 = threading.Thread(target=print_squares)\n",
    "t2 = threading.Thread(target=print_cubes)\n",
    "\n",
    "t1.start()\n",
    "t2.start()\n",
    "\n",
    "t1.join()\n",
    "t2.join()\n",
    "\n",
    "print(\"Threads finished.\")"
   ]
  },
  {
   "cell_type": "markdown",
   "id": "c2dd9602-9485-4d8b-912b-4956afd0ed00",
   "metadata": {},
   "source": [
    "# QUESTION-5"
   ]
  },
  {
   "cell_type": "markdown",
   "id": "06dfdb6b-99a6-4ac6-a23a-676bb6b5ffad",
   "metadata": {},
   "source": [
    "## Advantages of Multithreading:\n",
    "#### 1.Improved Responsiveness\n",
    "#### 2.Enhanced Performance\n",
    "#### 3.Resource Sharing\n",
    "#### 4.Simplified Program Structure\n",
    "## Disadvantages of Multithreading:\n",
    "#### 1.Complexity of Synchronization\n",
    "#### 2.Increased Overhead\n",
    "#### 3.Difficulty in Debugging\n",
    "#### 4.Potential for Thread-Safety Issues"
   ]
  },
  {
   "cell_type": "markdown",
   "id": "5cf100ad-535f-4e19-8f37-09a3955746f9",
   "metadata": {},
   "source": [
    "# QUESTION-6"
   ]
  },
  {
   "cell_type": "code",
   "execution_count": 12,
   "id": "f401ab35-df48-4c99-82c1-598081e41b11",
   "metadata": {},
   "outputs": [],
   "source": [
    "# Explain deadlocks and race conditions.???"
   ]
  },
  {
   "cell_type": "markdown",
   "id": "a582b8d7-159a-4f8d-85c8-6ea0ef9f2768",
   "metadata": {},
   "source": [
    "### Deadlock is a situation in concurrent programming where two or more threads or processes are unable to proceed because each is waiting for the other to release a resource or take a specific action. In other words, it's a state where a set of processes are blocked indefinitely, waiting for resources that will never be released.\n",
    "## A deadlock typically occurs when four conditions are met:\n",
    "\n",
    "#### Mutual Exclusion: At least one resource must be held in a non-sharable mode, meaning only one thread or process can access it at a time.\n",
    "#### Hold and Wait: A thread or process holds at least one resource and waits for additional resources that are currently held by other threads or processes.\n",
    "#### No Preemption: Resources cannot be forcibly taken away from threads or processes.\n",
    "#### Circular Wait: There exists a circular chain of two or more threads or processes, where each thread/process is waiting for a resource held by the next thread/process in the chain."
   ]
  },
  {
   "cell_type": "code",
   "execution_count": null,
   "id": "ad225ca4-0ffe-4ffb-bdf3-fafdaac5dad0",
   "metadata": {},
   "outputs": [],
   "source": []
  }
 ],
 "metadata": {
  "kernelspec": {
   "display_name": "Python 3 (ipykernel)",
   "language": "python",
   "name": "python3"
  },
  "language_info": {
   "codemirror_mode": {
    "name": "ipython",
    "version": 3
   },
   "file_extension": ".py",
   "mimetype": "text/x-python",
   "name": "python",
   "nbconvert_exporter": "python",
   "pygments_lexer": "ipython3",
   "version": "3.10.8"
  }
 },
 "nbformat": 4,
 "nbformat_minor": 5
}
