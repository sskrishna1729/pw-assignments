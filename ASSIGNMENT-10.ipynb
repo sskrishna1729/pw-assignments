{
 "cells": [
  {
   "cell_type": "markdown",
   "id": "862a70a0-b0f6-4cfc-97a5-667a6ebf40b3",
   "metadata": {},
   "source": [
    "# Multiprocessing Assignment"
   ]
  },
  {
   "cell_type": "markdown",
   "id": "15d62559-488b-4fc0-8f18-6476127fb2bd",
   "metadata": {},
   "source": [
    "# QUESTION-1"
   ]
  },
  {
   "cell_type": "code",
   "execution_count": 1,
   "id": "951cdc70-ac20-48a1-a57f-12c6d23f60ad",
   "metadata": {},
   "outputs": [],
   "source": [
    "# What is multiprocessing in python? Why is it useful?"
   ]
  },
  {
   "cell_type": "markdown",
   "id": "dd52975b-55ed-4f5a-9c76-e1bb9d4d2b96",
   "metadata": {},
   "source": [
    "### Multiprocessing in Python refers to the capability of executing multiple processes simultaneously in order to achieve parallelism and leverage the full potential of multi-core CPUs or multiple processors. It allows the distribution of workload across multiple processes, enabling them to execute tasks in parallel and potentially speed up the execution time of a program.\n",
    "\n",
    "### Python's multiprocessing module provides a high-level interface for creating and managing processes. Each process has its own memory space and runs independently of other processes, allowing for true parallel execution. The multiprocessing module offers features such as process creation, inter-process communication, synchronization, and process control."
   ]
  },
  {
   "cell_type": "markdown",
   "id": "8190af22-d156-425c-9392-da5d5180d2b0",
   "metadata": {},
   "source": [
    "# QUESTION-2"
   ]
  },
  {
   "cell_type": "code",
   "execution_count": 2,
   "id": "722dd46d-2a2f-47a9-8782-ee7b9c3b158f",
   "metadata": {},
   "outputs": [],
   "source": [
    "# What are the differences between multiprocessing and multithreading?"
   ]
  },
  {
   "cell_type": "markdown",
   "id": "d231954e-8c99-4bbe-a3f6-430f079ce241",
   "metadata": {},
   "source": [
    "## The differences between multiprocessing and multithreading are as follows:\n",
    "\n",
    "### Execution Model:\n",
    "\n",
    "#### Multiprocessing: In multiprocessing, multiple processes run concurrently, each with its own memory space and resources. Each process has its own interpreter and runs independently of others.\n",
    "#### Multithreading: In multithreading, multiple threads run concurrently within a single process. Threads share the same memory space and resources of the process, and they execute concurrently, sharing the same interpreter.\n",
    "### Parallelism:\n",
    "\n",
    "#### Multiprocessing: Multiprocessing enables true parallelism by utilizing multiple CPUs or CPU cores. Each process can be executed on a separate core, allowing for efficient utilization of hardware resources.\n",
    "#### Multithreading: Multithreading achieves concurrency but not true parallelism. Threads are executed in a time-sliced manner by the operating system, utilizing a single CPU core. Although threads can run concurrently, they do not take full advantage of multiple cores.\n",
    "### Memory Isolation:\n",
    "\n",
    "#### Multiprocessing: Each process in multiprocessing has its own memory space. Memory is isolated between processes, meaning one process cannot directly access or modify the memory of another process. Communication between processes requires explicit inter-process communication mechanisms.\n",
    "#### Multithreading: Threads within the same process share the same memory space. They can directly access and modify the shared memory, which can lead to potential data race conditions and requires proper synchronization mechanisms to ensure thread safety.\n",
    "### Communication and Synchronization:\n",
    "\n",
    "#### Multiprocessing: Inter-process communication (IPC) mechanisms such as pipes, queues, shared memory, or sockets are used to exchange data and communicate between processes. Synchronization between processes is necessary to ensure proper coordination and avoid race conditions.\n",
    "#### Multithreading: Threads within the same process can communicate and share data more easily since they have shared memory. However, proper synchronization mechanisms like locks, semaphores, or condition variables are still required to prevent data corruption and ensure thread safety.\n",
    "### Fault Isolation:\n",
    "\n",
    "#### Multiprocessing: If one process encounters an error or crashes, it does not affect other processes. Each process runs independently and failure in one process does not impact the overall execution.\n",
    "#### Multithreading: In multithreading, if one thread encounters an error or crashes, it can potentially crash the entire process since threads share the same memory space. A single thread's failure can have a cascading effect on other threads.\n",
    "### Use Cases:\n",
    "\n",
    "#### Multiprocessing: Multiprocessing is suitable for CPU-bound tasks or tasks that can be easily parallelized, such as intensive mathematical computations, simulations, and data processing where multiple cores can be utilized effectively.\n",
    "#### Multithreading: Multithreading is more suitable for I/O-bound tasks or tasks that involve waiting for external resources, such as network operations, file operations, or GUI applications where responsiveness is important."
   ]
  },
  {
   "cell_type": "markdown",
   "id": "4c71e291-6b5c-4371-8966-0e96ea6d974f",
   "metadata": {},
   "source": [
    "# QUESTION-3"
   ]
  },
  {
   "cell_type": "code",
   "execution_count": 3,
   "id": "61c4f06f-5a88-4bf3-ac76-c76350c30ba3",
   "metadata": {},
   "outputs": [],
   "source": [
    "# Write a python code to create a process using the multiprocessing module.???"
   ]
  },
  {
   "cell_type": "code",
   "execution_count": 4,
   "id": "562a1400-d1d9-4ed9-94ed-0045f990626b",
   "metadata": {},
   "outputs": [
    {
     "name": "stdout",
     "output_type": "stream",
     "text": [
      "Worker process executing\n",
      "Main process executing\n"
     ]
    }
   ],
   "source": [
    "import multiprocessing\n",
    "\n",
    "def worker():\n",
    "    \"\"\"Function to be executed by the process\"\"\"\n",
    "    print(\"Worker process executing\")\n",
    "\n",
    "if __name__ == \"__main__\":\n",
    "\n",
    "    process = multiprocessing.Process(target=worker)\n",
    "    \n",
    "\n",
    "    process.start()\n",
    "\n",
    "    process.join()\n",
    "    \n",
    "    print(\"Main process executing\")"
   ]
  },
  {
   "cell_type": "markdown",
   "id": "0a1a7082-7e03-4f7b-b39f-7a87d2f71597",
   "metadata": {},
   "source": [
    "# QUESTION-4"
   ]
  },
  {
   "cell_type": "code",
   "execution_count": 5,
   "id": "0fad0557-a86e-4714-a5be-7f41822b3192",
   "metadata": {},
   "outputs": [],
   "source": [
    "# What is a multiprocessing pool in python? Why is it used?"
   ]
  },
  {
   "cell_type": "markdown",
   "id": "ae23a050-61ca-49ca-bd9d-1c7aa2eb5416",
   "metadata": {},
   "source": [
    "## A multiprocessing pool in Python refers to a collection of worker processes that are created to perform parallelizable tasks. The pool provides a convenient way to distribute the workload across multiple processes and maximize the utilization of available system resources. It is part of the multiprocessing module in Python.\n",
    "## The main purpose of using a multiprocessing pool is to achieve parallelism and improve the efficiency of executing tasks that can be divided and processed independently. Rather than manually creating and managing individual processes, a pool abstracts the complexity by creating and maintaining a group of worker processes that can be used to execute tasks concurrently.\n",
    "## The multiprocessing pool is especially useful when you have a large number of tasks that can be processed independently and don't require explicit coordination between them. By utilizing multiple worker processes, the pool allows for parallel execution of these tasks, effectively reducing the overall processing time."
   ]
  },
  {
   "cell_type": "markdown",
   "id": "9e6bb4a9-3e3c-48a0-8644-a231df439fff",
   "metadata": {},
   "source": [
    "# QUESTION-5"
   ]
  },
  {
   "cell_type": "code",
   "execution_count": 6,
   "id": "4a6d566d-a6e8-499a-a848-707985dfee8c",
   "metadata": {},
   "outputs": [],
   "source": [
    "# How can we create a pool of worker processes in python using the multiprocessing module?"
   ]
  },
  {
   "cell_type": "code",
   "execution_count": 7,
   "id": "a1bd12c0-8a32-4fc4-9e87-f8771f4b68c2",
   "metadata": {},
   "outputs": [
    {
     "name": "stdout",
     "output_type": "stream",
     "text": [
      "Results: [2, 4, 6, 8, 10]\n"
     ]
    }
   ],
   "source": [
    "import multiprocessing\n",
    "\n",
    "def worker(task):\n",
    "    \"\"\"Function to be executed by the worker processes\"\"\"\n",
    "    result = task * 2\n",
    "    return result\n",
    "\n",
    "if __name__ == \"__main__\":\n",
    "    # Create a multiprocessing pool with 4 worker processes\n",
    "    pool = multiprocessing.Pool(processes=4)\n",
    "    \n",
    "    tasks = [1, 2, 3, 4, 5]\n",
    "    \n",
    "    # Submit tasks to the pool using the map() method\n",
    "    results = pool.map(worker, tasks)\n",
    "    \n",
    "    # Print the results\n",
    "    print(\"Results:\", results)\n",
    "    \n",
    "    # Close the pool and wait for the worker processes to finish\n",
    "    pool.close()\n",
    "    pool.join()"
   ]
  },
  {
   "cell_type": "markdown",
   "id": "31a76fb0-2434-4dd8-9f29-2ee9fe761da0",
   "metadata": {},
   "source": [
    "# QUESTION-6"
   ]
  },
  {
   "cell_type": "code",
   "execution_count": 8,
   "id": "c8dea508-40c2-4bf6-b1e0-fad0959990fd",
   "metadata": {},
   "outputs": [],
   "source": [
    "# Write a python program to create 4 processes, each process should print a different number using the multiprocessing module in python."
   ]
  },
  {
   "cell_type": "code",
   "execution_count": 9,
   "id": "54c35412-1cee-4796-82f7-6dd73bd5b303",
   "metadata": {},
   "outputs": [
    {
     "name": "stdout",
     "output_type": "stream",
     "text": [
      "Process ID: Process-6Process ID:\n",
      " Number:Process-7 \n",
      "1Process ID:Number:\n",
      "  Process-82\n",
      "\n",
      "Number:Process ID:  3Process-9\n",
      "\n",
      "Number: 4\n"
     ]
    }
   ],
   "source": [
    "import multiprocessing\n",
    "\n",
    "def print_number(number):\n",
    "    \"\"\"Function to print a number\"\"\"\n",
    "    print(\"Process ID:\", multiprocessing.current_process().name)\n",
    "    print(\"Number:\", number)\n",
    "\n",
    "if __name__ == \"__main__\":\n",
    "    numbers = [1, 2, 3, 4]\n",
    "    processes = []\n",
    "\n",
    "    for number in numbers:\n",
    "        # Create a process for each number\n",
    "        process = multiprocessing.Process(target=print_number, args=(number,))\n",
    "        processes.append(process)\n",
    "        process.start()\n",
    "\n",
    "    for process in processes:\n",
    "        # Wait for each process to finish\n",
    "        process.join()"
   ]
  },
  {
   "cell_type": "code",
   "execution_count": null,
   "id": "d37d4e9e-fd8f-4bf9-a020-2c2de9d3340e",
   "metadata": {},
   "outputs": [],
   "source": []
  }
 ],
 "metadata": {
  "kernelspec": {
   "display_name": "Python 3 (ipykernel)",
   "language": "python",
   "name": "python3"
  },
  "language_info": {
   "codemirror_mode": {
    "name": "ipython",
    "version": 3
   },
   "file_extension": ".py",
   "mimetype": "text/x-python",
   "name": "python",
   "nbconvert_exporter": "python",
   "pygments_lexer": "ipython3",
   "version": "3.10.8"
  }
 },
 "nbformat": 4,
 "nbformat_minor": 5
}
