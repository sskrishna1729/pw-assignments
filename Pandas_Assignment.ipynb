{
 "cells": [
  {
   "cell_type": "code",
   "execution_count": 2,
   "id": "d8fc46bc-4ec6-4d1b-aa93-e7ef55099b69",
   "metadata": {},
   "outputs": [],
   "source": [
    "import pandas as pd\n",
    "course_name = ['Data Science', 'Machine Learning', 'Big Data', 'Data Engineer']\n",
    "duration = [2,3,6,4]\n",
    "df = pd.DataFrame(data = {'course_name' : course_name, 'duration' : duration})"
   ]
  },
  {
   "cell_type": "markdown",
   "id": "0a506e21-916e-4018-a377-b47bfb651724",
   "metadata": {},
   "source": [
    "# Question-1"
   ]
  },
  {
   "cell_type": "code",
   "execution_count": 3,
   "id": "d50445aa-f50a-4522-b61e-0a5e32fd733a",
   "metadata": {},
   "outputs": [
    {
     "name": "stdout",
     "output_type": "stream",
     "text": [
      "course_name    Machine Learning\n",
      "duration                      3\n",
      "Name: 1, dtype: object\n"
     ]
    }
   ],
   "source": [
    "import pandas as pd\n",
    "\n",
    "course_name = ['Data Science', 'Machine Learning', 'Big Data', 'Data Engineer']\n",
    "duration = [2, 3, 6, 4]\n",
    "df = pd.DataFrame(data={'course_name': course_name, 'duration': duration})\n",
    "\n",
    "# Access and print the second row (index 1)\n",
    "second_row = df.iloc[1]\n",
    "print(second_row)\n"
   ]
  },
  {
   "cell_type": "markdown",
   "id": "f87dfd81-00dc-40c9-96f2-d3413e4b469a",
   "metadata": {},
   "source": [
    "# Question-2"
   ]
  },
  {
   "cell_type": "markdown",
   "id": "317954d9-2814-410b-811b-9b479ade9749",
   "metadata": {},
   "source": [
    "## loc (Label-based Indexing):\n",
    "\n",
    "### loc is primarily label-based indexing, which means that it uses labels or names to select data.\n",
    "### You can use loc to select rows and columns based on their labels, which can be specific labels or label ranges.\n",
    "### It is inclusive of both the start and end points when selecting ranges.\n",
    "### When using loc, the row and column indices can be specified using the actual labels present in the DataFrame"
   ]
  },
  {
   "cell_type": "code",
   "execution_count": 4,
   "id": "09a3e8a3-eeb3-4351-988a-c032d09910af",
   "metadata": {},
   "outputs": [],
   "source": [
    "df = pd.DataFrame({'A': [1, 2, 3], 'B': [4, 5, 6]}, index=['X', 'Y', 'Z'])\n",
    "selected_data = df.loc['Y', 'A']  # Selects the value at row 'Y' and column 'A'"
   ]
  },
  {
   "cell_type": "markdown",
   "id": "6d693b8a-0c89-49b4-bd1c-612e7006233f",
   "metadata": {},
   "source": [
    "## iloc (Integer-based Indexing):\n",
    "\n",
    "### iloc is primarily integer-based indexing, which means that it uses integer positions to select data.\n",
    "### You can use iloc to select rows and columns based on integer indices, similar to the way you would in a regular Python list.\n",
    "### It is exclusive of the end point when selecting ranges, following Python's standard indexing convention."
   ]
  },
  {
   "cell_type": "code",
   "execution_count": 5,
   "id": "5e858b7e-a610-44c3-91c6-ec85ea1ba72e",
   "metadata": {},
   "outputs": [],
   "source": [
    "df = pd.DataFrame({'A': [1, 2, 3], 'B': [4, 5, 6]})\n",
    "selected_data = df.iloc[1, 0]  # Selects the value at row 1 and column 0 (0-based indexing)"
   ]
  },
  {
   "cell_type": "markdown",
   "id": "969d86ee-daf0-425c-9d42-146cfb7ffed1",
   "metadata": {},
   "source": [
    "# Question-3"
   ]
  },
  {
   "cell_type": "code",
   "execution_count": 6,
   "id": "da0aee2b-f7b9-4e01-abbf-9e92ebffaf08",
   "metadata": {},
   "outputs": [
    {
     "name": "stdout",
     "output_type": "stream",
     "text": [
      "Data using loc:\n",
      "course_name    Big Data\n",
      "duration              6\n",
      "Name: 2, dtype: object\n",
      "\n",
      "Data using iloc:\n",
      "course_name    Machine Learning\n",
      "duration                      3\n",
      "Name: 1, dtype: object\n"
     ]
    }
   ],
   "source": [
    "import pandas as pd\n",
    "\n",
    "course_name = ['Data Science', 'Machine Learning', 'Big Data', 'Data Engineer']\n",
    "duration = [2, 3, 6, 4]\n",
    "df = pd.DataFrame(data={'course_name': course_name, 'duration': duration})\n",
    "\n",
    "# Define the reindex variable\n",
    "reindex = [3, 0, 1, 2]\n",
    "\n",
    "# Reindex the DataFrame\n",
    "new_df = df.reindex(reindex)\n",
    "\n",
    "# Access and print the data using loc and iloc\n",
    "data_loc = new_df.loc[2]     # Access data using loc\n",
    "data_iloc = new_df.iloc[2]   # Access data using iloc\n",
    "\n",
    "print(\"Data using loc:\")\n",
    "print(data_loc)\n",
    "\n",
    "print(\"\\nData using iloc:\")\n",
    "print(data_iloc)"
   ]
  },
  {
   "cell_type": "markdown",
   "id": "6af9a7ac-ad16-473a-a0e9-359b1c72fcd5",
   "metadata": {},
   "source": [
    "# Question-4"
   ]
  },
  {
   "cell_type": "code",
   "execution_count": 7,
   "id": "ed03dcdf-2906-4b44-8519-126727464eb6",
   "metadata": {},
   "outputs": [
    {
     "name": "stdout",
     "output_type": "stream",
     "text": [
      "Mean of each column:\n",
      "column_1    0.573892\n",
      "column_2    0.400062\n",
      "column_3    0.480893\n",
      "column_4    0.571973\n",
      "column_5    0.668565\n",
      "column_6    0.284538\n",
      "dtype: float64\n",
      "\n",
      "Standard Deviation of 'column_2': 0.2144741993488876\n"
     ]
    }
   ],
   "source": [
    "import pandas as pd\n",
    "import numpy as np\n",
    "\n",
    "# Creating the DataFrame\n",
    "columns = ['column_1', 'column_2', 'column_3', 'column_4', 'column_5', 'column_6']\n",
    "indices = [1, 2, 3, 4, 5, 6]\n",
    "df1 = pd.DataFrame(np.random.rand(6, 6), columns=columns, index=indices)\n",
    "\n",
    "# (i) Mean of each column\n",
    "column_means = df1.mean()\n",
    "print(\"Mean of each column:\")\n",
    "print(column_means)\n",
    "\n",
    "# (ii) Standard deviation of 'column_2'\n",
    "std_dev_column_2 = df1['column_2'].std()\n",
    "print(\"\\nStandard Deviation of 'column_2':\", std_dev_column_2)"
   ]
  },
  {
   "cell_type": "markdown",
   "id": "58c0329d-f9fd-4170-9986-cb57f6468528",
   "metadata": {},
   "source": [
    "# Question-5"
   ]
  },
  {
   "cell_type": "code",
   "execution_count": null,
   "id": "d2ef03c7-a1ca-4fff-9ebd-2f5951aca731",
   "metadata": {},
   "outputs": [],
   "source": [
    "# Try to replace the data in 'column_2' of the second row with a string\n",
    "df1.loc[2, 'column_2'] = 'string_data'\n",
    "\n",
    "# Calculate the mean of 'column_2'\n",
    "mean_column_2 = df1['column_2'].mean()\n",
    "print(\"Mean of 'column_2':\", mean_column_2)"
   ]
  },
  {
   "cell_type": "markdown",
   "id": "8c42202c-e8a7-4278-94e0-199ffe76fdb8",
   "metadata": {},
   "source": [
    "# Question-6"
   ]
  },
  {
   "cell_type": "markdown",
   "id": "4fd773fb-989c-4eea-be21-c4d73a5d3716",
   "metadata": {},
   "source": [
    "### In Pandas, window functions are a category of functions that allow you to perform operations on a rolling or expanding window of data within a DataFrame or Series. These functions are particularly useful for time-series data or any ordered data where you want to calculate statistics or apply custom functions to a moving window of values.\n",
    "\n",
    "### Window functions are typically used in conjunction with the rolling() and expanding() methods in Pandas, which define the size and type of the window. Here's an overview of the types of window functions in Pandas:"
   ]
  },
  {
   "cell_type": "code",
   "execution_count": 9,
   "id": "8645f1ef-8ddf-44a3-a5fb-78245a6011b7",
   "metadata": {},
   "outputs": [
    {
     "name": "stdout",
     "output_type": "stream",
     "text": [
      "0     NaN\n",
      "1     NaN\n",
      "2    20.0\n",
      "3    30.0\n",
      "4    40.0\n",
      "5    50.0\n",
      "6    60.0\n",
      "7    70.0\n",
      "8    80.0\n",
      "9    90.0\n",
      "Name: Value, dtype: float64\n"
     ]
    }
   ],
   "source": [
    "import pandas as pd\n",
    "\n",
    "# Creating a DataFrame with time-series data\n",
    "data = {'Date': pd.date_range(start='2023-01-01', periods=10, freq='D'), 'Value': [10, 20, 30, 40, 50, 60, 70, 80, 90, 100]}\n",
    "df = pd.DataFrame(data)\n",
    "\n",
    "# Calculate the rolling mean with a window size of 3\n",
    "rolling_mean = df['Value'].rolling(window=3).mean()\n",
    "\n",
    "print(rolling_mean)\n"
   ]
  },
  {
   "cell_type": "markdown",
   "id": "22bab1f9-e328-4c8a-b718-a19656d971b1",
   "metadata": {},
   "source": [
    "# Question-7"
   ]
  },
  {
   "cell_type": "code",
   "execution_count": 10,
   "id": "0dbb8f3e-05fe-4856-848d-512d2dd30042",
   "metadata": {},
   "outputs": [
    {
     "name": "stdout",
     "output_type": "stream",
     "text": [
      "Current Year: 2023\n",
      "Current Month: 10\n"
     ]
    }
   ],
   "source": [
    "import pandas as pd\n",
    "\n",
    "# Get the current date and time\n",
    "current_datetime = pd.Timestamp.now()\n",
    "\n",
    "# Extract the current year and month\n",
    "current_year = current_datetime.year\n",
    "current_month = current_datetime.month\n",
    "\n",
    "# Print the current year and month\n",
    "print(\"Current Year:\", current_year)\n",
    "print(\"Current Month:\", current_month)\n"
   ]
  },
  {
   "cell_type": "markdown",
   "id": "d784370b-fbbc-43b8-80ca-530ecaeeb4a3",
   "metadata": {},
   "source": [
    "# Question-8"
   ]
  },
  {
   "cell_type": "code",
   "execution_count": 11,
   "id": "a7f96448-90d4-47a6-bd36-c3737e7b317a",
   "metadata": {},
   "outputs": [
    {
     "name": "stdin",
     "output_type": "stream",
     "text": [
      "Enter the first date (YYYY-MM-DD):  2023-10-18\n",
      "Enter the second date (YYYY-MM-DD):  2023-10-19\n"
     ]
    },
    {
     "name": "stdout",
     "output_type": "stream",
     "text": [
      "Time difference: 1 days, 0 hours, 0 minutes\n"
     ]
    }
   ],
   "source": [
    "import pandas as pd\n",
    "\n",
    "# Function to calculate the time difference\n",
    "def calculate_time_difference(date1, date2):\n",
    "    try:\n",
    "        # Convert input strings to datetime objects\n",
    "        date1 = pd.to_datetime(date1)\n",
    "        date2 = pd.to_datetime(date2)\n",
    "\n",
    "        # Calculate the time difference\n",
    "        time_diff = date2 - date1\n",
    "\n",
    "        # Extract days, hours, and minutes\n",
    "        days = time_diff.days\n",
    "        seconds = time_diff.seconds\n",
    "        hours, remainder = divmod(seconds, 3600)\n",
    "        minutes, _ = divmod(remainder, 60)\n",
    "\n",
    "        return days, hours, minutes\n",
    "\n",
    "    except ValueError:\n",
    "        return None\n",
    "\n",
    "# Get user input for two dates\n",
    "date1 = input(\"Enter the first date (YYYY-MM-DD): \")\n",
    "date2 = input(\"Enter the second date (YYYY-MM-DD): \")\n",
    "\n",
    "# Calculate the time difference\n",
    "result = calculate_time_difference(date1, date2)\n",
    "\n",
    "if result is not None:\n",
    "    days, hours, minutes = result\n",
    "    print(f\"Time difference: {days} days, {hours} hours, {minutes} minutes\")\n",
    "else:\n",
    "    print(\"Invalid date format. Please use the format YYYY-MM-DD.\")\n"
   ]
  },
  {
   "cell_type": "markdown",
   "id": "f0a04ae9-cf52-4e44-a377-25bb9824eef6",
   "metadata": {},
   "source": [
    "# Question-9"
   ]
  },
  {
   "cell_type": "code",
   "execution_count": 12,
   "id": "121eb6ca-77f9-430a-9e59-97ad56ab7601",
   "metadata": {},
   "outputs": [
    {
     "name": "stdin",
     "output_type": "stream",
     "text": [
      "Enter the path to the CSV file:  file_path\n",
      "Enter the name of the column to convert:  column_name\n",
      "Enter the category order (comma-separated):  category_order\n"
     ]
    },
    {
     "name": "stdout",
     "output_type": "stream",
     "text": [
      "File not found. Please check the file path.\n"
     ]
    }
   ],
   "source": [
    "import pandas as pd\n",
    "\n",
    "# Function to read and convert the specified column to categorical\n",
    "def convert_column_to_categorical(file_path, column_name, category_order):\n",
    "    try:\n",
    "        # Read the CSV file\n",
    "        df = pd.read_csv(file_path)\n",
    "\n",
    "        # Convert the specified column to a categorical data type with custom category order\n",
    "        df[column_name] = pd.Categorical(df[column_name], categories=category_order, ordered=True)\n",
    "\n",
    "        # Sort the DataFrame by the specified column\n",
    "        sorted_df = df.sort_values(by=[column_name])\n",
    "\n",
    "        return sorted_df\n",
    "\n",
    "    except FileNotFoundError:\n",
    "        return None\n",
    "\n",
    "# Get user input for file path, column name, and category order\n",
    "file_path = input(\"Enter the path to the CSV file: \")\n",
    "column_name = input(\"Enter the name of the column to convert: \")\n",
    "category_order = input(\"Enter the category order (comma-separated): \").split(',')\n",
    "\n",
    "# Convert the specified column to categorical and sort the data\n",
    "result = convert_column_to_categorical(file_path, column_name, category_order)\n",
    "\n",
    "if result is not None:\n",
    "    print(\"Sorted Data:\")\n",
    "    print(result)\n",
    "else:\n",
    "    print(\"File not found. Please check the file path.\")\n"
   ]
  },
  {
   "cell_type": "markdown",
   "id": "3fe0054c-95b8-403a-b33d-c40a376eac20",
   "metadata": {},
   "source": [
    "# Question-10"
   ]
  },
  {
   "cell_type": "code",
   "execution_count": 13,
   "id": "96973831-fdc2-4d58-977a-bea9b3c90851",
   "metadata": {},
   "outputs": [
    {
     "name": "stdin",
     "output_type": "stream",
     "text": [
      "Enter the path to the CSV file:  file_path\n"
     ]
    },
    {
     "name": "stdout",
     "output_type": "stream",
     "text": [
      "File not found. Please check the file path.\n"
     ]
    }
   ],
   "source": [
    "import pandas as pd\n",
    "import matplotlib.pyplot as plt\n",
    "\n",
    "# Function to read CSV file and create a stacked bar chart\n",
    "def visualize_sales_data(file_path):\n",
    "    try:\n",
    "        # Read the CSV file\n",
    "        df = pd.read_csv(file_path)\n",
    "\n",
    "        # Group data by product category and calculate the sum of sales over time\n",
    "        category_sales = df.groupby('Product_Category').sum()\n",
    "\n",
    "        # Create a stacked bar chart\n",
    "        category_sales.plot(kind='bar', stacked=True, figsize=(10, 6))\n",
    "\n",
    "        # Set plot labels and title\n",
    "        plt.xlabel('Time Period')\n",
    "        plt.ylabel('Sales')\n",
    "        plt.title('Stacked Bar Chart of Sales by Product Category Over Time')\n",
    "\n",
    "        # Display the chart\n",
    "        plt.show()\n",
    "\n",
    "    except FileNotFoundError:\n",
    "        print(\"File not found. Please check the file path.\")\n",
    "\n",
    "# Get user input for the file path\n",
    "file_path = input(\"Enter the path to the CSV file: \")\n",
    "\n",
    "# Visualize the sales data using a stacked bar chart\n",
    "visualize_sales_data(file_path)\n"
   ]
  },
  {
   "cell_type": "markdown",
   "id": "cd95e10b-e5b8-432b-a9cb-8d598b67ec4e",
   "metadata": {},
   "source": [
    "# Question-11"
   ]
  },
  {
   "cell_type": "code",
   "execution_count": 14,
   "id": "20fefc32-6fed-4a8a-88c6-dd49483a4546",
   "metadata": {},
   "outputs": [
    {
     "name": "stdin",
     "output_type": "stream",
     "text": [
      "Enter the path to the CSV file:  file_path\n"
     ]
    },
    {
     "name": "stdout",
     "output_type": "stream",
     "text": [
      "File not found. Please check the file path.\n"
     ]
    }
   ],
   "source": [
    "import pandas as pd\n",
    "\n",
    "# Function to calculate mean, median, and mode of test scores\n",
    "def calculate_statistics(file_path):\n",
    "    try:\n",
    "        # Read the CSV file\n",
    "        df = pd.read_csv(file_path)\n",
    "\n",
    "        # Calculate mean, median, and mode\n",
    "        mean_score = df['Test_Score'].mean()\n",
    "        median_score = df['Test_Score'].median()\n",
    "        mode_score = df['Test_Score'].mode().iloc[0]\n",
    "\n",
    "        # Create a DataFrame to display the results\n",
    "        statistics_df = pd.DataFrame({\n",
    "            'Metric': ['Mean', 'Median', 'Mode'],\n",
    "            'Value': [mean_score, median_score, mode_score]\n",
    "        })\n",
    "\n",
    "        return statistics_df\n",
    "\n",
    "    except FileNotFoundError:\n",
    "        return None\n",
    "\n",
    "# Get user input for the file path\n",
    "file_path = input(\"Enter the path to the CSV file: \")\n",
    "\n",
    "# Calculate and display statistics\n",
    "result = calculate_statistics(file_path)\n",
    "\n",
    "if result is not None:\n",
    "    print(\"Summary of Test Scores:\")\n",
    "    print(result)\n",
    "else:\n",
    "    print(\"File not found. Please check the file path.\")\n"
   ]
  },
  {
   "cell_type": "code",
   "execution_count": null,
   "id": "9aaed248-682d-4bb2-8ef9-b3810fe451eb",
   "metadata": {},
   "outputs": [],
   "source": []
  }
 ],
 "metadata": {
  "kernelspec": {
   "display_name": "Python 3 (ipykernel)",
   "language": "python",
   "name": "python3"
  },
  "language_info": {
   "codemirror_mode": {
    "name": "ipython",
    "version": 3
   },
   "file_extension": ".py",
   "mimetype": "text/x-python",
   "name": "python",
   "nbconvert_exporter": "python",
   "pygments_lexer": "ipython3",
   "version": "3.10.8"
  }
 },
 "nbformat": 4,
 "nbformat_minor": 5
}
