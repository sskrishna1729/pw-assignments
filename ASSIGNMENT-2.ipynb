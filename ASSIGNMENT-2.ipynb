{
 "cells": [
  {
   "cell_type": "markdown",
   "id": "fb34f9e3-0ee2-41bf-a19d-5f808f8e2a08",
   "metadata": {},
   "source": [
    "ASSIGNMENT-2 IN PW SKILLS COURSE"
   ]
  },
  {
   "cell_type": "markdown",
   "id": "50c2ff8f-9954-4433-907f-071cf3c87566",
   "metadata": {},
   "source": [
    "## QUESTION-1"
   ]
  },
  {
   "cell_type": "code",
   "execution_count": 12,
   "id": "72bca032-8cda-4030-b194-774924d88901",
   "metadata": {},
   "outputs": [],
   "source": [
    "#How do you comment code in Python? What are the different types of comments?"
   ]
  },
  {
   "cell_type": "markdown",
   "id": "24ac716a-f98f-4fb6-a8c8-c0f49db046cd",
   "metadata": {},
   "source": [
    "### There are two types of comments in Python:"
   ]
  },
  {
   "cell_type": "markdown",
   "id": "79a48b63-e878-4651-ab07-9d5eb1def523",
   "metadata": {},
   "source": [
    "#### 1.single line comments:"
   ]
  },
  {
   "cell_type": "code",
   "execution_count": 1,
   "id": "3b7b054f-70c4-452e-9599-51612825f361",
   "metadata": {},
   "outputs": [],
   "source": [
    "# Python single-line comment starts with the hashtag symbol (#)"
   ]
  },
  {
   "cell_type": "markdown",
   "id": "0ee7a3cc-d3ab-4ba9-84b2-5b88cf433862",
   "metadata": {},
   "source": [
    "### 2.multi line comments"
   ]
  },
  {
   "cell_type": "code",
   "execution_count": 8,
   "id": "f6a9e280-5a6c-4cf4-9a94-8ab595cef975",
   "metadata": {},
   "outputs": [
    {
     "name": "stdout",
     "output_type": "stream",
     "text": [
      "hello\n"
     ]
    }
   ],
   "source": [
    "# Python multi-line comment is done with the string literal ('''.....''')\n",
    "'''\n",
    "this \n",
    "is \n",
    "the way to\n",
    "comment in multiline\n",
    "'''\n",
    "print(\"hello\")"
   ]
  },
  {
   "cell_type": "markdown",
   "id": "0f08fdb0-4fcb-40da-bbc4-076134718ca1",
   "metadata": {},
   "source": [
    "## QUESTION-2"
   ]
  },
  {
   "cell_type": "code",
   "execution_count": 13,
   "id": "ab9798f8-bbaa-4563-8ac5-ad9ac0a195a9",
   "metadata": {},
   "outputs": [],
   "source": [
    "# What are variables in Python? How do you declare and assign values to variables?"
   ]
  },
  {
   "cell_type": "code",
   "execution_count": 11,
   "id": "6286100f-db81-47fb-9d29-4ad01d68c6ca",
   "metadata": {},
   "outputs": [],
   "source": [
    "#  Variables are containers for storing data values.\n",
    "#  Python has no command for declaring a variable.\n",
    "\n",
    "#  In Python, there is no need for explicit declaration in variables as compared to using some other programming languages.\n",
    "#  You can start using the variable right away.\n",
    "x=12 # both declaring and initialisation done at same time"
   ]
  },
  {
   "cell_type": "markdown",
   "id": "f64148d2-ceaf-4714-a3ec-e9e7d5839274",
   "metadata": {},
   "source": [
    "## QUESTION-3"
   ]
  },
  {
   "cell_type": "code",
   "execution_count": 14,
   "id": "e52ae3d7-65d3-444c-86bc-e9970f85827d",
   "metadata": {},
   "outputs": [],
   "source": [
    "# How do you convert one data type to another in Python?"
   ]
  },
  {
   "cell_type": "code",
   "execution_count": 16,
   "id": "4bdb8e6f-695a-4074-8607-4821541eb3bc",
   "metadata": {},
   "outputs": [
    {
     "data": {
      "text/plain": [
       "int"
      ]
     },
     "execution_count": 16,
     "metadata": {},
     "output_type": "execute_result"
    }
   ],
   "source": [
    "# COVERTING ONE DATA TYPE INTO OTHER DATA TYPE IS CALLED AS TYPECASTING\n",
    "X=10\n",
    "type(x)"
   ]
  },
  {
   "cell_type": "code",
   "execution_count": 19,
   "id": "6c620c8f-efe9-4c20-a7dc-44f617d52f67",
   "metadata": {},
   "outputs": [
    {
     "data": {
      "text/plain": [
       "10.0"
      ]
     },
     "execution_count": 19,
     "metadata": {},
     "output_type": "execute_result"
    }
   ],
   "source": [
    "float(X)\n",
    "# typecasting integer to float"
   ]
  },
  {
   "cell_type": "code",
   "execution_count": 21,
   "id": "25f17844-82bf-4518-a39c-e198ff327392",
   "metadata": {},
   "outputs": [
    {
     "data": {
      "text/plain": [
       "int"
      ]
     },
     "execution_count": 21,
     "metadata": {},
     "output_type": "execute_result"
    }
   ],
   "source": [
    "type(X)"
   ]
  },
  {
   "cell_type": "code",
   "execution_count": 20,
   "id": "f0dc182c-fd90-41ad-ac48-fac12690a111",
   "metadata": {},
   "outputs": [
    {
     "data": {
      "text/plain": [
       "'10'"
      ]
     },
     "execution_count": 20,
     "metadata": {},
     "output_type": "execute_result"
    }
   ],
   "source": [
    "str(X)"
   ]
  },
  {
   "cell_type": "code",
   "execution_count": 22,
   "id": "274f325b-feaa-46c1-aa8c-1fa7c624e21e",
   "metadata": {},
   "outputs": [],
   "source": [
    "# typecasting integer into string"
   ]
  },
  {
   "cell_type": "markdown",
   "id": "a0cde5dc-0dc1-437d-8e4b-e63d2c33c83b",
   "metadata": {},
   "source": [
    "## QUESTION-4"
   ]
  },
  {
   "cell_type": "code",
   "execution_count": 23,
   "id": "ca27db81-7dfb-4eee-9cbe-28bebf71180d",
   "metadata": {},
   "outputs": [],
   "source": [
    "# How do you write and execute a Python script from the command line?"
   ]
  },
  {
   "cell_type": "code",
   "execution_count": 24,
   "id": "c637e7ab-5141-4422-aeb6-ca624d794b0b",
   "metadata": {},
   "outputs": [],
   "source": [
    "#  open a command line and type the word python followed by the path to your script file like this: python first_script.py\n",
    "#  Hello World! Then you hit the ENTER button from the keyboard, and that's it"
   ]
  },
  {
   "cell_type": "markdown",
   "id": "118d66f2-f005-4cfd-bd6c-732c0311209a",
   "metadata": {},
   "source": [
    "## QUESTION-5"
   ]
  },
  {
   "cell_type": "code",
   "execution_count": 25,
   "id": "9d59bef6-a27c-4629-8f6f-9ed9093e5fea",
   "metadata": {},
   "outputs": [],
   "source": [
    "# Given a list my_list = [1, 2, 3, 4, 5], write the code to slice the list and obtain the sub-list [2, 3]."
   ]
  },
  {
   "cell_type": "code",
   "execution_count": 26,
   "id": "ac3dfc3d-f4d7-4417-b889-c4db1e0cea76",
   "metadata": {},
   "outputs": [
    {
     "data": {
      "text/plain": [
       "[2, 3]"
      ]
     },
     "execution_count": 26,
     "metadata": {},
     "output_type": "execute_result"
    }
   ],
   "source": [
    "my_list=[1,2,3,4,5]\n",
    "my_list[1:3]"
   ]
  },
  {
   "cell_type": "markdown",
   "id": "5a25dda3-5565-4f43-bc5e-c8509770cbd3",
   "metadata": {},
   "source": [
    "## QUESTION-6"
   ]
  },
  {
   "cell_type": "code",
   "execution_count": 27,
   "id": "95bceab7-d865-41b4-8203-1fc2801d4240",
   "metadata": {},
   "outputs": [],
   "source": [
    "# What is a complex number in mathematics, and how is it represented in Python?"
   ]
  },
  {
   "cell_type": "code",
   "execution_count": 28,
   "id": "ee590ead-ff1f-49ec-8f86-c0e4d415d46a",
   "metadata": {},
   "outputs": [
    {
     "data": {
      "text/plain": [
       "complex"
      ]
     },
     "execution_count": 28,
     "metadata": {},
     "output_type": "execute_result"
    }
   ],
   "source": [
    "# complex numbers are the numbers that are expressed in the form of a+bj(a->real part,b->imaginary part)\n",
    "# in python complex number is represented as\n",
    "c=7+6j\n",
    "type(c)"
   ]
  },
  {
   "cell_type": "code",
   "execution_count": 30,
   "id": "17e9ad78-252c-4d1d-bf29-1093f1f1c35a",
   "metadata": {},
   "outputs": [
    {
     "data": {
      "text/plain": [
       "7.0"
      ]
     },
     "execution_count": 30,
     "metadata": {},
     "output_type": "execute_result"
    }
   ],
   "source": [
    "c.real"
   ]
  },
  {
   "cell_type": "code",
   "execution_count": 31,
   "id": "42556dc6-dca1-4e7b-bdeb-73973b3b2240",
   "metadata": {},
   "outputs": [
    {
     "data": {
      "text/plain": [
       "6.0"
      ]
     },
     "execution_count": 31,
     "metadata": {},
     "output_type": "execute_result"
    }
   ],
   "source": [
    "c.imag"
   ]
  },
  {
   "cell_type": "markdown",
   "id": "9b67d72e-9042-4967-9b4b-aa3240f96141",
   "metadata": {},
   "source": [
    "## QUESTION-7"
   ]
  },
  {
   "cell_type": "code",
   "execution_count": 32,
   "id": "37c07a68-3a37-442d-a989-f243ef7c32a2",
   "metadata": {},
   "outputs": [],
   "source": [
    "# What is the correct way to declare a variable named age and assign the value 25 to it?"
   ]
  },
  {
   "cell_type": "code",
   "execution_count": 33,
   "id": "0a4283cb-70f7-48fa-8a76-39fafedc038d",
   "metadata": {},
   "outputs": [],
   "source": [
    "age=25"
   ]
  },
  {
   "cell_type": "code",
   "execution_count": 34,
   "id": "69cd10db-6a8c-4f9b-9f9c-98d21db627a4",
   "metadata": {},
   "outputs": [
    {
     "data": {
      "text/plain": [
       "25"
      ]
     },
     "execution_count": 34,
     "metadata": {},
     "output_type": "execute_result"
    }
   ],
   "source": [
    "age"
   ]
  },
  {
   "cell_type": "markdown",
   "id": "941b72c5-7690-4db3-868d-b01d89f0e745",
   "metadata": {},
   "source": [
    "## QUESTION-8"
   ]
  },
  {
   "cell_type": "code",
   "execution_count": 35,
   "id": "fff6c534-1401-4281-9572-2a8dfb1443df",
   "metadata": {},
   "outputs": [],
   "source": [
    "# Declare a variable named price and assign the value 9.99 to it. What data type does this variable belong to?"
   ]
  },
  {
   "cell_type": "code",
   "execution_count": 36,
   "id": "99f681b7-5733-45a7-9f98-ff46c2f87674",
   "metadata": {},
   "outputs": [
    {
     "data": {
      "text/plain": [
       "float"
      ]
     },
     "execution_count": 36,
     "metadata": {},
     "output_type": "execute_result"
    }
   ],
   "source": [
    "price=9.99\n",
    "type(price)"
   ]
  },
  {
   "cell_type": "markdown",
   "id": "41cc1c6e-1d28-4f97-bcc7-1f96eeb432f4",
   "metadata": {},
   "source": [
    "## QUESTION-9"
   ]
  },
  {
   "cell_type": "code",
   "execution_count": 37,
   "id": "7b03ad48-b3de-4bc9-8cc1-33dbe97014c1",
   "metadata": {},
   "outputs": [],
   "source": [
    "#  Create a variable named name and assign your full name to it as a string. How would you print the value of this variable?"
   ]
  },
  {
   "cell_type": "code",
   "execution_count": 38,
   "id": "6a7628a5-702b-4e7c-9805-cec8c7d7b392",
   "metadata": {},
   "outputs": [
    {
     "name": "stdout",
     "output_type": "stream",
     "text": [
      "s\n",
      "a\n",
      "i\n",
      "k\n",
      "r\n",
      "i\n",
      "s\n",
      "h\n",
      "n\n",
      "a\n",
      " \n",
      "p\n",
      "a\n",
      "c\n",
      "h\n",
      "a\n",
      "l\n",
      "a\n"
     ]
    }
   ],
   "source": [
    "name='saikrishna pachala'\n",
    "for i in name:\n",
    "    print(i)"
   ]
  },
  {
   "cell_type": "markdown",
   "id": "8fd5360a-f771-4246-910d-e020b32e1155",
   "metadata": {},
   "source": [
    "## QUESTION-10"
   ]
  },
  {
   "cell_type": "code",
   "execution_count": 39,
   "id": "feb17a3d-3dcd-439a-b26f-0f20dd9e84d0",
   "metadata": {},
   "outputs": [],
   "source": [
    "# Given the string \"Hello, World!\", extract the substring \"World\"."
   ]
  },
  {
   "cell_type": "code",
   "execution_count": 40,
   "id": "7876e3b3-4d40-4f17-b1a0-ad71e75230c8",
   "metadata": {},
   "outputs": [
    {
     "data": {
      "text/plain": [
       "'World'"
      ]
     },
     "execution_count": 40,
     "metadata": {},
     "output_type": "execute_result"
    }
   ],
   "source": [
    "string='Hello, World!'\n",
    "string[7:12]"
   ]
  },
  {
   "cell_type": "markdown",
   "id": "473849c7-4c46-41d7-8355-8a8bc2756399",
   "metadata": {},
   "source": [
    "## QUESTION-11"
   ]
  },
  {
   "cell_type": "code",
   "execution_count": 41,
   "id": "4af954a1-39bf-4c2c-9d61-53a396f1f926",
   "metadata": {},
   "outputs": [],
   "source": [
    "# Create a variable named \"is_student\" and assign it a boolean value indicating whether you are currently a student or not."
   ]
  },
  {
   "cell_type": "code",
   "execution_count": 61,
   "id": "8c350087-d02e-4605-8309-1d39eb43dbbb",
   "metadata": {},
   "outputs": [],
   "source": [
    "is_variable=True"
   ]
  },
  {
   "cell_type": "code",
   "execution_count": 62,
   "id": "25f120a2-340e-4190-889d-8f4567e25f64",
   "metadata": {},
   "outputs": [
    {
     "data": {
      "text/plain": [
       "bool"
      ]
     },
     "execution_count": 62,
     "metadata": {},
     "output_type": "execute_result"
    }
   ],
   "source": [
    "type(is_variable)"
   ]
  },
  {
   "cell_type": "code",
   "execution_count": null,
   "id": "26315d2f-45b6-4ccd-bd3e-c5d7f8569713",
   "metadata": {},
   "outputs": [],
   "source": []
  }
 ],
 "metadata": {
  "kernelspec": {
   "display_name": "Python 3 (ipykernel)",
   "language": "python",
   "name": "python3"
  },
  "language_info": {
   "codemirror_mode": {
    "name": "ipython",
    "version": 3
   },
   "file_extension": ".py",
   "mimetype": "text/x-python",
   "name": "python",
   "nbconvert_exporter": "python",
   "pygments_lexer": "ipython3",
   "version": "3.10.8"
  }
 },
 "nbformat": 4,
 "nbformat_minor": 5
}
