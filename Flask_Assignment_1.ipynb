{
 "cells": [
  {
   "cell_type": "markdown",
   "id": "56688844-5e53-4cd5-ba42-03197110aa05",
   "metadata": {},
   "source": [
    "# Question-1"
   ]
  },
  {
   "cell_type": "markdown",
   "id": "43b4209b-83d2-4431-8921-06723224f87a",
   "metadata": {},
   "source": [
    "### Flask is a lightweight and flexible web framework for Python. It's designed to be simple, easy to use, and minimalistic, which makes it an excellent choice for developing web applications and web services. Flask does not provide all the features and components found in larger frameworks like Django but is well-suited for smaller to medium-sized projects and prototyping."
   ]
  },
  {
   "cell_type": "markdown",
   "id": "3f4d23ca-80b5-40ea-8d9b-fa7de98dda1f",
   "metadata": {},
   "source": [
    "### Simplicity: Flask is known for its simplicity and minimalistic design. It provides only the essentials for web development, making it easy for developers to get started and understand the framework quickly.\n",
    "\n",
    "### Unopinionated: Flask is unopinionated, which means it doesn't force a specific structure or way of doing things on developers. You have the freedom to choose the components and libraries you want to use in your project.\n",
    "\n",
    "### Extensibility: While Flask provides only the basics, it is highly extensible. You can add third-party extensions and libraries as needed to incorporate features such as database support, authentication, and more. This allows you to keep your project lightweight while expanding its capabilities.\n",
    "\n",
    "### Jinja2 Templating: Flask uses the Jinja2 templating engine, which simplifies the creation of dynamic HTML templates. This separation of logic and presentation makes it easier to build web pages.\n",
    "\n",
    "### Werkzeug Integration: Flask is built on top of the Werkzeug WSGI (Web Server Gateway Interface) toolkit, which provides essential web server functionality. This integration ensures reliable and efficient request handling.\n",
    "\n",
    "### Development Server: Flask includes a built-in development server, making it easy to test and debug your application during development without the need for a separate web server setup.\n",
    "\n",
    "### RESTful Support: Flask is well-suited for building RESTful web services due to its simplicity and extensibility. It makes it easy to create endpoints for APIs.\n",
    "\n",
    "### Community and Ecosystem: Flask has an active and supportive community. There are numerous third-party extensions and libraries available, allowing you to add functionality to your project quickly.\n",
    "\n",
    "### Microservices: Flask is often used for building microservices because of its lightweight nature. It is ideal for developing small, focused components of a larger application architecture.\n",
    "\n",
    "#### Learning Curve: Flask's small and well-documented codebase makes it an excellent choice for developers who are new to web development or web frameworks. It's easy to learn and a great starting point for web development.\n",
    "\n",
    "### Scalability: While Flask is often used for small and medium-sized projects, it can also scale to handle larger applications. Flask provides the foundation for building more complex systems when combined with appropriate extensions and practices."
   ]
  },
  {
   "cell_type": "markdown",
   "id": "c0eb92dc-8c9f-4fd7-8635-45328715082a",
   "metadata": {},
   "source": [
    "# Question-2"
   ]
  },
  {
   "cell_type": "code",
   "execution_count": null,
   "id": "be7ccdbd-a1d7-44db-b016-690f594e5a38",
   "metadata": {},
   "outputs": [],
   "source": [
    "from flask import Flask\n",
    "\n",
    "app = Flask(__name__)\n",
    "\n",
    "@app.route('/')\n",
    "def hello_world():\n",
    "    return 'Hello World!!'\n",
    "\n",
    "if __name__ == '__main__':\n",
    "    app.run()\n",
    "!pip install flask\n"
   ]
  },
  {
   "cell_type": "markdown",
   "id": "1dacaabf-27d0-4b06-8f6b-cdd6fb50a438",
   "metadata": {},
   "source": [
    "# Question-3"
   ]
  },
  {
   "cell_type": "markdown",
   "id": "894e5b73-0a39-4bbe-b93d-144cd5cded00",
   "metadata": {},
   "source": [
    "### In Flask, app routing refers to the process of defining URL patterns and associating them with specific Python functions. This is achieved using the @app.route() decorator. App routing is a fundamental concept in Flask, as it determines how your web application responds to different URL requests."
   ]
  },
  {
   "cell_type": "markdown",
   "id": "ce246685-17db-4a16-880e-ee2b8082ac32",
   "metadata": {},
   "source": [
    "### Here's a brief explanation of app routing in Flask:\n",
    "\n",
    "### URL Patterns: App routing allows you to specify URL patterns, also known as routes, that define the structure of the URLs your application will respond to. For example, you can define routes like /, /about, /contact, and /user/<username>.\n",
    "\n",
    "### Function Association: Each defined route is associated with a Python function, referred to as a view function. When a user accesses a URL matching a defined route, Flask calls the associated view function to handle the request and generate a response.\n",
    "\n",
    "### Dynamic Content: App routing enables you to create dynamic web applications. By using route patterns with placeholders, you can extract data from the URL and use it in your view functions. For instance, /user/<username> can capture the username from the URL and display user-specific content.\n",
    "\n",
    "HTTP Methods: Routes can be associated with specific HTTP methods, such as GET, POST, PUT, or DELETE. This allows you to define how your view functions respond to different types of requests."
   ]
  },
  {
   "cell_type": "markdown",
   "id": "761e900f-6d7d-4d36-a8e8-de273f783cff",
   "metadata": {},
   "source": [
    "# Question-4"
   ]
  },
  {
   "cell_type": "code",
   "execution_count": null,
   "id": "85f481ad-34a7-4a33-8514-fdf53dc2aaff",
   "metadata": {},
   "outputs": [],
   "source": [
    "from flask import Flask\n",
    "\n",
    "app = Flask(__name)\n",
    "\n",
    "# Route for \"/welcome\" to display the welcome message\n",
    "@app.route('/welcome')\n",
    "def welcome():\n",
    "    return 'Welcome to ABC Corporation'\n",
    "\n",
    "# Route for \"/\" to show company details\n",
    "@app.route('/')\n",
    "def company_details():\n",
    "    company_info = {\n",
    "        'Company Name': 'ABC Corporation',\n",
    "        'Location': 'India',\n",
    "        'Contact Detail': '999-999-9999'\n",
    "    }\n",
    "    details = \"<h1>Company Details</h1><ul>\"\n",
    "    for key, value in company_info.items():\n",
    "        details += f\"<li><strong>{key}:</strong> {value}</li>\"\n",
    "    details += \"</ul>\"\n",
    "    return details\n",
    "\n",
    "if __name__ == '__main__':\n",
    "    app.run()\n"
   ]
  },
  {
   "cell_type": "markdown",
   "id": "8efdeb7d-9980-4ce4-8ccc-76d17a1486d0",
   "metadata": {},
   "source": [
    "# Question-5"
   ]
  },
  {
   "cell_type": "code",
   "execution_count": null,
   "id": "557df99d-b228-4ef6-baba-54dd608865a4",
   "metadata": {},
   "outputs": [],
   "source": [
    "from flask import Flask, render_template, url_for\n",
    "\n",
    "app = Flask(__name)\n",
    "\n",
    "# Define a route for the home page\n",
    "@app.route('/')\n",
    "def home():\n",
    "    return 'Welcome to the home page!'\n",
    "\n",
    "# Define a route that takes a parameter\n",
    "@app.route('/user/<username>')\n",
    "def user_profile(username):\n",
    "    return f'Profile for user: {username}'\n",
    "\n",
    "if __name__ == '__main__':\n",
    "    app.run()\n",
    "\n",
    "# Use the url_for() function in another context, e.g., in a template\n",
    "@app.route('/link')\n",
    "def link():\n",
    "    # Generate a URL for the 'user_profile' route with the username parameter\n",
    "    user_url = url_for('user_profile', username='john_doe')\n",
    "\n",
    "    return f'User profile link: {user_url}'\n"
   ]
  }
 ],
 "metadata": {
  "kernelspec": {
   "display_name": "Python 3 (ipykernel)",
   "language": "python",
   "name": "python3"
  },
  "language_info": {
   "codemirror_mode": {
    "name": "ipython",
    "version": 3
   },
   "file_extension": ".py",
   "mimetype": "text/x-python",
   "name": "python",
   "nbconvert_exporter": "python",
   "pygments_lexer": "ipython3",
   "version": "3.10.8"
  }
 },
 "nbformat": 4,
 "nbformat_minor": 5
}
