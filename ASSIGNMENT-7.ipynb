{
 "cells": [
  {
   "cell_type": "markdown",
   "id": "87fa98e5-bbf9-4d2c-8dba-2541a0f8722d",
   "metadata": {},
   "source": [
    "# EXCEPTON HANDLING"
   ]
  },
  {
   "cell_type": "markdown",
   "id": "c9f3dfe6-2811-4e8f-af5e-76708c84f44e",
   "metadata": {},
   "source": [
    "# QUESTION-1"
   ]
  },
  {
   "cell_type": "code",
   "execution_count": 1,
   "id": "69edb1f1-6bff-4798-939c-11ad791f1a88",
   "metadata": {},
   "outputs": [],
   "source": [
    "# What is an Exception in pthon? Write the differen,e etween Exceptions and syntax errors"
   ]
  },
  {
   "cell_type": "markdown",
   "id": "c3b285f7-d67d-412a-8083-06f9e0e60fb3",
   "metadata": {},
   "source": [
    "## An Exception in Python is an event that occurs during the execution of a program, which disrupts the normal flow of the program. It is a way of handling errors and exceptional situations that may arise during the program's execution."
   ]
  },
  {
   "cell_type": "markdown",
   "id": "e7aabcc6-f87c-497e-ba13-5c01b584fae7",
   "metadata": {},
   "source": [
    "### exceptions are runtime errors that occur during program execution due to exceptional or unexpected conditions, while syntax errors are errors that occur during the parsing or compilation of the code due to violations of the language syntax rules. Exceptions can be caught and handled using exception handling mechanisms, while syntax errors need to be fixed by correcting the code syntax before the program can run successfully."
   ]
  },
  {
   "cell_type": "markdown",
   "id": "2ec90ab9-78c5-458b-901a-fe5285dc2709",
   "metadata": {},
   "source": [
    "# QUESTION-2"
   ]
  },
  {
   "cell_type": "code",
   "execution_count": 2,
   "id": "d1249fa2-85a8-4a24-98f9-02e7d25b094e",
   "metadata": {},
   "outputs": [],
   "source": [
    "# What happens when an exception is not handled? Explain with an example??"
   ]
  },
  {
   "cell_type": "markdown",
   "id": "5c950981-ef38-4619-8c65-dd6983ef2758",
   "metadata": {},
   "source": [
    "### When an exception is not handled in Python, it leads to the termination of the program and an error message is displayed. This means that the normal execution flow of the program is disrupted, and the program stops executing further code beyond the point where the exception occurred."
   ]
  },
  {
   "cell_type": "code",
   "execution_count": 4,
   "id": "f92a542f-4d6f-4bd5-bcaa-ed6d1c4a62bd",
   "metadata": {},
   "outputs": [
    {
     "ename": "ZeroDivisionError",
     "evalue": "division by zero",
     "output_type": "error",
     "traceback": [
      "\u001b[0;31m---------------------------------------------------------------------------\u001b[0m",
      "\u001b[0;31mZeroDivisionError\u001b[0m                         Traceback (most recent call last)",
      "Cell \u001b[0;32mIn[4], line 3\u001b[0m\n\u001b[1;32m      1\u001b[0m \u001b[38;5;66;03m# example:\u001b[39;00m\n\u001b[1;32m      2\u001b[0m \u001b[38;5;28;01mtry\u001b[39;00m:\n\u001b[0;32m----> 3\u001b[0m     x \u001b[38;5;241m=\u001b[39m \u001b[38;5;241;43m10\u001b[39;49m\u001b[43m \u001b[49m\u001b[38;5;241;43m/\u001b[39;49m\u001b[43m \u001b[49m\u001b[38;5;241;43m0\u001b[39;49m\n\u001b[1;32m      4\u001b[0m     \u001b[38;5;28mprint\u001b[39m(\u001b[38;5;124m\"\u001b[39m\u001b[38;5;124mThis line will not be executed\u001b[39m\u001b[38;5;124m\"\u001b[39m)\n\u001b[1;32m      5\u001b[0m \u001b[38;5;28;01mexcept\u001b[39;00m \u001b[38;5;167;01mValueError\u001b[39;00m:\n",
      "\u001b[0;31mZeroDivisionError\u001b[0m: division by zero"
     ]
    }
   ],
   "source": [
    "# example:\n",
    "try:\n",
    "    x = 10 / 0\n",
    "    print(\"This line will not be executed\")\n",
    "except ValueError:\n",
    "    print(\"Caught a ValueError\")"
   ]
  },
  {
   "cell_type": "markdown",
   "id": "e4e565cf-65d1-4103-986d-2dc5e9bff80b",
   "metadata": {},
   "source": [
    "# QUESTION-3"
   ]
  },
  {
   "cell_type": "code",
   "execution_count": 5,
   "id": "45be79c6-3b0e-43dc-98f1-499ece537017",
   "metadata": {},
   "outputs": [],
   "source": [
    "# Which Python statements are used to catch and handle exceptions? Explain with an example"
   ]
  },
  {
   "cell_type": "markdown",
   "id": "fe0fce3c-1fa7-478a-b2dc-a19ad278503d",
   "metadata": {},
   "source": [
    "### In Python, the try and except statements are used to catch and handle exceptions. The try block contains the code that may potentially raise an exception, and the except block specifies the actions to be taken when a specific exception is raised."
   ]
  },
  {
   "cell_type": "code",
   "execution_count": 6,
   "id": "c3047e22-1beb-4d79-86b3-3f68fb5d6167",
   "metadata": {},
   "outputs": [
    {
     "name": "stdin",
     "output_type": "stream",
     "text": [
      "Enter a number:  0\n"
     ]
    },
    {
     "name": "stdout",
     "output_type": "stream",
     "text": [
      "Cannot divide by zero.\n"
     ]
    }
   ],
   "source": [
    "try:\n",
    "    x = int(input(\"Enter a number: \"))\n",
    "    result = 10 / x\n",
    "    print(\"Result:\", result)\n",
    "except ValueError:\n",
    "    print(\"Invalid input. Please enter a valid number.\")\n",
    "except ZeroDivisionError:\n",
    "    print(\"Cannot divide by zero.\")"
   ]
  },
  {
   "cell_type": "markdown",
   "id": "56d96239-4286-4dc9-a03c-3351e5022a16",
   "metadata": {},
   "source": [
    "# QUESTION-4"
   ]
  },
  {
   "cell_type": "code",
   "execution_count": 7,
   "id": "474886c8-6389-425a-b9c1-04dd95f236b9",
   "metadata": {},
   "outputs": [],
   "source": [
    "# Explain with an example:\n",
    "\n",
    "# 1.try and else"
   ]
  },
  {
   "cell_type": "markdown",
   "id": "ed43c0a8-0e24-42de-b91f-c92a642ea30f",
   "metadata": {},
   "source": [
    "## In Python, the else block is used in conjunction with the try-except statement to specify a block of code that should be executed if no exceptions are raised in the corresponding try block. The else block is optional and follows the except block(s) in the exception handling structure."
   ]
  },
  {
   "cell_type": "code",
   "execution_count": 8,
   "id": "2aac1822-6617-44a4-8fb2-3966ad53e583",
   "metadata": {},
   "outputs": [
    {
     "name": "stdin",
     "output_type": "stream",
     "text": [
      "Enter a number:  0\n"
     ]
    },
    {
     "name": "stdout",
     "output_type": "stream",
     "text": [
      "Cannot divide by zero.\n"
     ]
    }
   ],
   "source": [
    "try:\n",
    "    x = int(input(\"Enter a number: \"))\n",
    "    result = 10 / x \n",
    "except ValueError:\n",
    "    print(\"Invalid input. Please enter a valid number.\")\n",
    "except ZeroDivisionError:\n",
    "    print(\"Cannot divide by zero.\")\n",
    "else:\n",
    "    print(\"Result:\", result)"
   ]
  },
  {
   "cell_type": "code",
   "execution_count": 9,
   "id": "2e643b4f-dca2-42cf-90fb-b5af173944c7",
   "metadata": {},
   "outputs": [],
   "source": [
    "# 2.finally"
   ]
  },
  {
   "cell_type": "markdown",
   "id": "b9aefe98-ae49-4dfb-a4b4-c06d1ce8a38f",
   "metadata": {},
   "source": [
    "## In Python, the finally block is used in conjunction with the try-except statement to specify a block of code that should be executed regardless of whether an exception is raised or not. The finally block is optional and follows the try and except block(s) in the exception handling structure."
   ]
  },
  {
   "cell_type": "code",
   "execution_count": null,
   "id": "22472937-81d4-4280-91f5-1e6b5f708cb4",
   "metadata": {},
   "outputs": [],
   "source": [
    "try:\n",
    "    file = open(\"basic.txt\", \"r\")\n",
    "except FileNotFoundError:\n",
    "    print(\"File not found.\")\n",
    "finally:\n",
    "    file.close()\n",
    "    print(\"File closed.\")"
   ]
  },
  {
   "cell_type": "code",
   "execution_count": 11,
   "id": "c43e32a3-751d-4ae0-ac82-64de2b2801ca",
   "metadata": {},
   "outputs": [],
   "source": [
    "# 3.raise"
   ]
  },
  {
   "cell_type": "markdown",
   "id": "0fbb97db-142b-4c7e-af22-7447d2c7199f",
   "metadata": {},
   "source": [
    "## In Python, the raise keyword is used to manually raise an exception. It allows you to explicitly trigger an exception in your code, indicating that something unexpected or exceptional has occurred. You can also raise built-in exceptions or create custom exceptions."
   ]
  },
  {
   "cell_type": "code",
   "execution_count": 12,
   "id": "9fe91101-9a9e-4cc6-b6d7-76f409c41a50",
   "metadata": {},
   "outputs": [
    {
     "name": "stdout",
     "output_type": "stream",
     "text": [
      "Error: Cannot divide by zero.\n"
     ]
    }
   ],
   "source": [
    "def divide_numbers(a, b):\n",
    "    if b == 0:\n",
    "        raise ZeroDivisionError(\"Cannot divide by zero.\")\n",
    "    return a / b\n",
    "\n",
    "try:\n",
    "    result = divide_numbers(10, 0)\n",
    "    print(\"Result:\", result)\n",
    "except ZeroDivisionError as e:\n",
    "    print(\"Error:\", e)"
   ]
  },
  {
   "cell_type": "markdown",
   "id": "6c3e0023-b516-48d2-99b6-da1c9d92b9b4",
   "metadata": {},
   "source": [
    "# QUESTION-5"
   ]
  },
  {
   "cell_type": "code",
   "execution_count": 13,
   "id": "6647bedd-d705-48df-85db-cf83da62c892",
   "metadata": {},
   "outputs": [],
   "source": [
    "# What are Custom Exceptions in python? Why do we need Custom Exceptions? Explain with in example"
   ]
  },
  {
   "cell_type": "markdown",
   "id": "24e87387-aa10-4ae2-a876-29bcc4c70151",
   "metadata": {},
   "source": [
    "## Custom exceptions in Python are user-defined exception classes that are created to represent specific types of errors or exceptional situations that may occur in a program. They allow developers to define and handle application-specific exceptions tailored to their needs."
   ]
  },
  {
   "cell_type": "code",
   "execution_count": 14,
   "id": "295b65e1-2f99-4636-8ec0-2416d6bd2abb",
   "metadata": {},
   "outputs": [
    {
     "name": "stdout",
     "output_type": "stream",
     "text": [
      "Error: Insufficient funds in the account.\n"
     ]
    }
   ],
   "source": [
    "class InsufficientFundsError(Exception):\n",
    "    pass\n",
    "\n",
    "class BankAccount:\n",
    "    def __init__(self, balance):\n",
    "        self.balance = balance\n",
    "\n",
    "    def withdraw(self, amount):\n",
    "        if amount > self.balance:\n",
    "            raise InsufficientFundsError(\"Insufficient funds in the account.\")\n",
    "        self.balance -= amount\n",
    "        print(f\"Withdrew {amount} units. Current balance: {self.balance}\")\n",
    "\n",
    "# Usage\n",
    "account = BankAccount(1000)\n",
    "try:\n",
    "    account.withdraw(1500)\n",
    "except InsufficientFundsError as e:\n",
    "    print(\"Error:\", e)"
   ]
  },
  {
   "cell_type": "markdown",
   "id": "020a0cee-19de-4edd-b4a3-6b4c52a692ac",
   "metadata": {},
   "source": [
    "# QUESTION-6"
   ]
  },
  {
   "cell_type": "code",
   "execution_count": 16,
   "id": "be715fdd-f47f-468e-8f66-c8f822f5b114",
   "metadata": {},
   "outputs": [],
   "source": [
    "# Create custom exception class. Use this class to handle an exception."
   ]
  },
  {
   "cell_type": "code",
   "execution_count": null,
   "id": "fdeceaf8-8b1b-4a83-856e-f661b18e2eb9",
   "metadata": {},
   "outputs": [],
   "source": [
    "class InvalidInputError(Exception):\n",
    "    pass\n",
    "\n",
    "def process_input(value):\n",
    "    if not isinstance(value, int):\n",
    "        raise InvalidInputError(\"Invalid input. Expected an integer.\")\n",
    "try:\n",
    "    user_input = input(\"Enter an integer: \")\n",
    "    processed_value = process_input(user_input)\n",
    "    print(\"Processed value:\", processed_value)\n",
    "except InvalidInputError as e:\n",
    "    print(\"Error:\", e)"
   ]
  }
 ],
 "metadata": {
  "kernelspec": {
   "display_name": "Python 3 (ipykernel)",
   "language": "python",
   "name": "python3"
  },
  "language_info": {
   "codemirror_mode": {
    "name": "ipython",
    "version": 3
   },
   "file_extension": ".py",
   "mimetype": "text/x-python",
   "name": "python",
   "nbconvert_exporter": "python",
   "pygments_lexer": "ipython3",
   "version": "3.10.8"
  }
 },
 "nbformat": 4,
 "nbformat_minor": 5
}
