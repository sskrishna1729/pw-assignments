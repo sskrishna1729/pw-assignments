{
 "cells": [
  {
   "cell_type": "markdown",
   "id": "6ebced5b-e7a2-4bd0-8a56-7bd16b0a24e0",
   "metadata": {
    "jp-MarkdownHeadingCollapsed": true,
    "tags": []
   },
   "source": [
    "# Question-1"
   ]
  },
  {
   "cell_type": "markdown",
   "id": "6f0dea0d-1907-4128-ac95-0f79273d9a4d",
   "metadata": {},
   "source": [
    "### MongoDB is a popular NoSQL (Non-SQL) database management system. It is designed to store and manage data in a way that differs from traditional relational databases, making it particularly well-suited for certain use cases.\n",
    "\n",
    "### Non-relational databases, often referred to as NoSQL databases, are a category of database systems that do not rely on the traditional tabular, structured data model used by SQL (relational) databases. Instead, they offer more flexibility in how data is organized and stored. Here's a brief explanation:"
   ]
  },
  {
   "cell_type": "markdown",
   "id": "79a052f3-5f41-4a3f-90d7-60eb5f9af195",
   "metadata": {},
   "source": [
    "## MongoDB is preferred over SQL databases in several scenarios:\n",
    "\n",
    "### Flexible Schema Requirements: When your application's data structure is not well-defined or frequently changes, MongoDB's schemaless design makes it easier to adapt to evolving data requirements.\n",
    "\n",
    "### Document-Oriented Data: MongoDB is a document database that stores data in JSON-like documents, making it suitable for use cases where data is inherently hierarchical or complex, such as content management systems, catalogs, and user profiles.\n",
    "\n",
    "### Scalability and High Volume of Data: MongoDB's ability to scale horizontally makes it an excellent choice for applications with large datasets and high traffic, such as big data analytics, IoT, and real-time applications.\n",
    "\n",
    "### Geospatial Data: MongoDB includes support for geospatial data and queries, making it a good fit for location-based applications and services.\n",
    "\n",
    "### Fast Development and Prototyping: MongoDB is often chosen for rapid development and prototyping, as it allows developers to get started quickly without the need to define complex schemas.\n",
    "\n",
    "### Cloud-Native Applications: MongoDB is often integrated with cloud platforms and is well-suited for building cloud-native applications that can take advantage of features like auto-scaling and managed services.\n",
    "\n",
    "### Real-time Analytics: MongoDB's aggregation framework and rich querying capabilities make it suitable for real-time analytics and reporting scenarios."
   ]
  },
  {
   "cell_type": "markdown",
   "id": "43904c5a-67e8-4900-88ae-e11b0b5612ea",
   "metadata": {
    "jp-MarkdownHeadingCollapsed": true,
    "tags": []
   },
   "source": [
    "# Question-2"
   ]
  },
  {
   "cell_type": "markdown",
   "id": "e833f31a-aac6-4dbe-99e3-d0dc036dde1d",
   "metadata": {},
   "source": [
    "### MongoDB is a popular NoSQL database management system that is known for its flexibility and scalability. It is designed to handle unstructured or semi-structured data, making it particularly well-suited for a variety of modern application use cases. Here are some of the key features of MongoDB:"
   ]
  },
  {
   "cell_type": "markdown",
   "id": "f4f8608b-d679-476f-8aa6-7092df49d601",
   "metadata": {},
   "source": [
    "### Highly Scalable\n",
    "### Schema-less\n",
    "### Document-Oriented\n",
    "### Flexible Queries\n",
    "### Indexing\n",
    "### Replication\n",
    "### Auto-Sharding"
   ]
  },
  {
   "cell_type": "markdown",
   "id": "dbc2b114-44e9-40df-883e-b9bdb7becace",
   "metadata": {
    "jp-MarkdownHeadingCollapsed": true,
    "tags": []
   },
   "source": [
    "# Question-3"
   ]
  },
  {
   "cell_type": "code",
   "execution_count": null,
   "id": "dd95f2e2-2de8-4715-9b18-156dca259b3c",
   "metadata": {},
   "outputs": [],
   "source": [
    "pip install pymongo\n",
    "import pymongo\n",
    "\n",
    "# Replace these values with your MongoDB connection details\n",
    "# Make sure your MongoDB server is running and accessible\n",
    "mongo_url = \"mongodb://localhost:27017/\"  # Connection URL\n",
    "\n",
    "# Initialize the MongoDB client\n",
    "client = pymongo.MongoClient(mongo_url)\n",
    "\n",
    "# Create or access a database\n",
    "db = client[\"mydatabase\"]\n",
    "\n",
    "# Create or access a collection within the database\n",
    "collection = db[\"mycollection\"]\n",
    "\n",
    "# Insert a document into the collection\n",
    "data = {\n",
    "    \"name\": \"John Doe\",\n",
    "    \"email\": \"johndoe@example.com\",\n",
    "    \"age\": 30\n",
    "}\n",
    "inserted_document = collection.insert_one(data)\n",
    "\n",
    "# Print the unique identifier (_id) of the inserted document\n",
    "print(\"Document ID:\", inserted_document.inserted_id)\n",
    "\n",
    "# Close the MongoDB connection when you're done\n",
    "client.close()"
   ]
  },
  {
   "cell_type": "markdown",
   "id": "586e461c-ccae-465d-a2fc-844dd940075d",
   "metadata": {
    "jp-MarkdownHeadingCollapsed": true,
    "tags": []
   },
   "source": [
    "# Question-4"
   ]
  },
  {
   "cell_type": "code",
   "execution_count": null,
   "id": "e9184254-127d-4e20-a5a5-e3cfdc339525",
   "metadata": {},
   "outputs": [],
   "source": [
    "import pymongo\n",
    "\n",
    "# Replace this with your MongoDB connection details\n",
    "mongo_url = \"mongodb://localhost:27017/\"\n",
    "\n",
    "# Initialize the MongoDB client\n",
    "client = pymongo.MongoClient(mongo_url)\n",
    "\n",
    "# Access the \"mydatabase\" database and \"mycollection\" collection\n",
    "db = client[\"mydatabase\"]\n",
    "collection = db[\"mycollection\"]\n",
    "\n",
    "# Insert one record\n",
    "record_one = {\n",
    "    \"name\": \"Alice\",\n",
    "    \"email\": \"alice@example.com\",\n",
    "    \"age\": 25\n",
    "}\n",
    "result_one = collection.insert_one(record_one)\n",
    "print(\"Inserted ID for one record:\", result_one.inserted_id)\n",
    "\n",
    "# Insert many records\n",
    "records_many = [\n",
    "    {\n",
    "        \"name\": \"Bob\",\n",
    "        \"email\": \"bob@example.com\",\n",
    "        \"age\": 32\n",
    "    },\n",
    "    {\n",
    "        \"name\": \"Charlie\",\n",
    "        \"email\": \"charlie@example.com\",\n",
    "        \"age\": 28\n",
    "    },\n",
    "    {\n",
    "        \"name\": \"David\",\n",
    "        \"email\": \"david@example.com\",\n",
    "        \"age\": 22\n",
    "    }\n",
    "]\n",
    "result_many = collection.insert_many(records_many)\n",
    "print(\"Inserted IDs for many records:\", result_many.inserted_ids)\n",
    "\n",
    "# Use find_one() to print one inserted record\n",
    "found_record_one = collection.find_one({\"name\": \"Alice\"})\n",
    "print(\"One Inserted Record:\")\n",
    "print(found_record_one)\n",
    "\n",
    "# Use find() to print all inserted records\n",
    "all_records = collection.find({})\n",
    "print(\"All Inserted Records:\")\n",
    "for record in all_records:\n",
    "    print(record)\n",
    "\n",
    "# Close the MongoDB connection\n",
    "client.close()"
   ]
  },
  {
   "cell_type": "markdown",
   "id": "ba9fc313-a13c-45b3-ad28-b70967f986ce",
   "metadata": {
    "jp-MarkdownHeadingCollapsed": true,
    "tags": []
   },
   "source": [
    "# Question-5"
   ]
  },
  {
   "cell_type": "code",
   "execution_count": null,
   "id": "511b0367-cdbf-4ebe-a73d-821545d1e063",
   "metadata": {},
   "outputs": [],
   "source": [
    "import pymongo\n",
    "\n",
    "# Replace this with your MongoDB connection details\n",
    "mongo_url = \"mongodb://localhost:27017/\"\n",
    "\n",
    "# Initialize the MongoDB client\n",
    "client = pymongo.MongoClient(mongo_url)\n",
    "\n",
    "# Access the \"mydatabase\" database and \"mycollection\" collection\n",
    "db = client[\"mydatabase\"]\n",
    "collection = db[\"mycollection\"]\n",
    "\n",
    "# Insert some sample data for demonstration\n",
    "sample_data = [\n",
    "    {\"name\": \"Alice\", \"age\": 25, \"city\": \"New York\"},\n",
    "    {\"name\": \"Bob\", \"age\": 32, \"city\": \"Los Angeles\"},\n",
    "    {\"name\": \"Charlie\", \"age\": 28, \"city\": \"Chicago\"},\n",
    "    {\"name\": \"David\", \"age\": 22, \"city\": \"Houston\"}\n",
    "]\n",
    "\n",
    "collection.insert_many(sample_data)\n",
    "\n",
    "# Use the find() method to query the collection\n",
    "# Find all documents with age greater than or equal to 30\n",
    "query = {\"age\": {\"$gte\": 30}}\n",
    "cursor = collection.find(query)\n",
    "\n",
    "# Iterate over the result cursor and print matching documents\n",
    "print(\"Documents with age greater than or equal to 30:\")\n",
    "for document in cursor:\n",
    "    print(document)\n",
    "\n",
    "# Close the MongoDB connection\n",
    "client.close()"
   ]
  },
  {
   "cell_type": "markdown",
   "id": "975c3b20-5750-402b-a698-acc929d96c8b",
   "metadata": {
    "jp-MarkdownHeadingCollapsed": true,
    "tags": []
   },
   "source": [
    "# Question-6"
   ]
  },
  {
   "cell_type": "markdown",
   "id": "3128dc30-9a5a-4f11-95ab-2efc66569398",
   "metadata": {},
   "source": [
    "### The sort() method in MongoDB is used to sort the documents in a collection based on one or more fields. It allows you to specify the sorting order (ascending or descending) for each field. Sorting is often used to arrange query results in a specific order, which can be useful for presenting data to users or performing various types of analysis."
   ]
  },
  {
   "cell_type": "code",
   "execution_count": null,
   "id": "d5d956a6-09d5-40ff-befe-d8396ec0cf67",
   "metadata": {},
   "outputs": [],
   "source": [
    "db.collection.find().sort({ field1: 1, field2: -1, ... })\n",
    "import pymongo\n",
    "\n",
    "# Replace this with your MongoDB connection details\n",
    "mongo_url = \"mongodb://localhost:27017/\"\n",
    "\n",
    "# Initialize the MongoDB client\n",
    "client = pymongo.MongoClient(mongo_url)\n",
    "\n",
    "# Access the \"mydatabase\" database and \"students\" collection\n",
    "db = client[\"mydatabase\"]\n",
    "collection = db[\"students\"]\n",
    "\n",
    "# Sort the documents by \"age\" in ascending order\n",
    "result = collection.find().sort(\"age\", 1)\n",
    "\n",
    "# Iterate over the sorted results and print the documents\n",
    "for document in result:\n",
    "    print(document)\n",
    "# Sort the documents by \"grade\" in ascending order\n",
    "result = collection.find().sort(\"grade\", 1)\n",
    "\n",
    "# Iterate over the sorted results and print the documents\n",
    "for document in result:\n",
    "    print(document)\n"
   ]
  },
  {
   "cell_type": "markdown",
   "id": "b442c3cd-f158-4228-9416-f8375529d4ea",
   "metadata": {
    "jp-MarkdownHeadingCollapsed": true,
    "tags": []
   },
   "source": [
    "# Question-7"
   ]
  },
  {
   "cell_type": "markdown",
   "id": "def9974a-df06-458e-b184-9a0841787ad0",
   "metadata": {},
   "source": [
    "## delete_one(filter):\n",
    "\n",
    "### Purpose: This method is used to delete a single document from a collection that matches a specified filter.\n",
    "### Parameters:\n",
    "###   filter: A document that specifies the criteria for which document to delete. Only the first document that matches this filter will be deleted."
   ]
  },
  {
   "cell_type": "code",
   "execution_count": null,
   "id": "05858967-1184-4fc2-a40c-ac4148895812",
   "metadata": {},
   "outputs": [],
   "source": [
    "collection.delete_one({\"name\": \"Alice\"})"
   ]
  },
  {
   "cell_type": "markdown",
   "id": "9e78b1dd-046b-4936-9106-3b129194409d",
   "metadata": {},
   "source": [
    "## delete_many(filter):\n",
    "\n",
    "### Purpose: This method is used to delete multiple documents from a collection that match a specified filter.\n",
    "### Parameters:\n",
    "### filter: A document that specifies the criteria for which documents to delete. All documents that match the filter will be deleted"
   ]
  },
  {
   "cell_type": "code",
   "execution_count": null,
   "id": "ea314944-d6f0-4674-9084-fd29d7e7f0f1",
   "metadata": {},
   "outputs": [],
   "source": [
    "collection.delete_many({\"age\": {\"$lt\": 18}})"
   ]
  },
  {
   "cell_type": "markdown",
   "id": "196f7144-09b0-4dba-8ad2-9e71fd13ad03",
   "metadata": {},
   "source": [
    "## drop():\n",
    "\n",
    "### Purpose: This method is used to delete an entire collection from the database, effectively removing all the documents in that collection.\n",
    "### Parameters: This method does not take any parameters"
   ]
  },
  {
   "cell_type": "code",
   "execution_count": null,
   "id": "2fed89d7-61c6-4a97-a341-ed1a65d6be8d",
   "metadata": {},
   "outputs": [],
   "source": [
    "collection.drop()"
   ]
  }
 ],
 "metadata": {
  "kernelspec": {
   "display_name": "Python 3 (ipykernel)",
   "language": "python",
   "name": "python3"
  },
  "language_info": {
   "codemirror_mode": {
    "name": "ipython",
    "version": 3
   },
   "file_extension": ".py",
   "mimetype": "text/x-python",
   "name": "python",
   "nbconvert_exporter": "python",
   "pygments_lexer": "ipython3",
   "version": "3.10.8"
  }
 },
 "nbformat": 4,
 "nbformat_minor": 5
}
