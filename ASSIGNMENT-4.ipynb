{
 "cells": [
  {
   "cell_type": "markdown",
   "id": "8ae1f666-fe21-4404-ae87-453b120a4947",
   "metadata": {},
   "source": [
    "# QUESTION-1"
   ]
  },
  {
   "cell_type": "code",
   "execution_count": 1,
   "id": "6031934e-7845-4ce4-a655-8c7a0491b584",
   "metadata": {},
   "outputs": [],
   "source": [
    "# Create a python program to sort the given list of tuples based on integer value using a lambda function\n",
    "\n",
    "# [('Sachin Tendulkar', 34357), ('Ricky Ponting', 27483), ('Jack Kallis', 25534), ('Virat Kohli', 24936)]"
   ]
  },
  {
   "cell_type": "code",
   "execution_count": 6,
   "id": "c0dbd6d7-baae-4c80-aac8-0c0cd84d4564",
   "metadata": {},
   "outputs": [
    {
     "name": "stdout",
     "output_type": "stream",
     "text": [
      "('Virat Kohli', 24936)\n",
      "('Jack Kallis', 25534)\n",
      "('Ricky Ponting', 27483)\n",
      "('Sachin Tendulkar', 34357)\n"
     ]
    }
   ],
   "source": [
    "data = [('Sachin Tendulkar', 34357), ('Ricky Ponting', 27483), ('Jack Kallis', 25534), ('Virat Kohli', 24936)]\n",
    "\n",
    "sorted_data = sorted(data, key=lambda x: x[1])\n",
    "\n",
    "for item in sorted_data:\n",
    "    print(item)"
   ]
  },
  {
   "cell_type": "markdown",
   "id": "244bbb89-aa27-45dc-8ba5-57547a991602",
   "metadata": {},
   "source": [
    "# QUESTION-2"
   ]
  },
  {
   "cell_type": "code",
   "execution_count": 21,
   "id": "2461e942-5b5d-4a3d-9e55-663256cc1261",
   "metadata": {},
   "outputs": [],
   "source": [
    "# Write a Python Program to find the squares of all the numbers in the given list of integers using lambda and map functions\n",
    "# [1, 2, 3, 4, 5, 6, 7, 8, 9, 10]"
   ]
  },
  {
   "cell_type": "code",
   "execution_count": 22,
   "id": "7e926953-0e6a-4990-b87e-314882927d9d",
   "metadata": {},
   "outputs": [
    {
     "data": {
      "text/plain": [
       "[1, 4, 9, 16, 25, 36, 49, 64, 81, 100]"
      ]
     },
     "execution_count": 22,
     "metadata": {},
     "output_type": "execute_result"
    }
   ],
   "source": [
    "l=[1, 2, 3, 4, 5, 6, 7, 8, 9, 10]\n",
    "list(map(lambda x:x**2,l))"
   ]
  },
  {
   "cell_type": "markdown",
   "id": "ca7a5455-44ab-4d10-816c-4ca9875ca8c0",
   "metadata": {},
   "source": [
    "# QUESTION-3"
   ]
  },
  {
   "cell_type": "code",
   "execution_count": 23,
   "id": "8195e0a0-bf89-48e4-8dfc-d3ced3726258",
   "metadata": {},
   "outputs": [],
   "source": [
    "# Write a python program to convert the given list of integers into a tuple of strings. Use map and lambda functions\n",
    "\n",
    "# Given String: [1, 2, 3, 4, 5, 6, 7, 8, 9, 10]\n",
    "# Expected output: ('1', '2', '3', '4', '5', '6', '7', '8', '9', '10')"
   ]
  },
  {
   "cell_type": "code",
   "execution_count": 31,
   "id": "a76fd472-b1f2-43f6-90a3-26cc90f60e23",
   "metadata": {},
   "outputs": [
    {
     "data": {
      "text/plain": [
       "['1', '2', '3', '4', '5', '6', '7', '8', '9', '10']"
      ]
     },
     "execution_count": 31,
     "metadata": {},
     "output_type": "execute_result"
    }
   ],
   "source": [
    "l1=[1, 2, 3, 4, 5, 6, 7, 8, 9, 10]\n",
    "list(map(lambda x:str(x),l1))"
   ]
  },
  {
   "cell_type": "markdown",
   "id": "e8b9c4cb-13d6-460a-96ef-cee382210eed",
   "metadata": {},
   "source": [
    "# QUESTION-4"
   ]
  },
  {
   "cell_type": "code",
   "execution_count": 30,
   "id": "bf0c1222-71a6-4091-aeb3-372d865ee1bb",
   "metadata": {},
   "outputs": [],
   "source": [
    "# Write a python program using reduce function to compute the product of a list containing numbers from 1 to 25."
   ]
  },
  {
   "cell_type": "code",
   "execution_count": 37,
   "id": "77d40c1d-d1bf-4e12-9cad-e17c9f6e1ee4",
   "metadata": {},
   "outputs": [
    {
     "data": {
      "text/plain": [
       "15511210043330985984000000"
      ]
     },
     "execution_count": 37,
     "metadata": {},
     "output_type": "execute_result"
    }
   ],
   "source": [
    "from functools import reduce\n",
    "l2=[1,2,3,4,5,6,7,8,9,10,11,12,13,14,15,16,17,18,19,20,21,22,23,24,25]\n",
    "reduce(lambda x,y:x*y,l2)"
   ]
  },
  {
   "cell_type": "markdown",
   "id": "d07299e4-ad96-44ba-b03b-6647d2b2ad84",
   "metadata": {},
   "source": [
    "# QUESTION-5"
   ]
  },
  {
   "cell_type": "code",
   "execution_count": 38,
   "id": "444da71e-295d-4ca4-b5b9-2780bf9202d1",
   "metadata": {},
   "outputs": [],
   "source": [
    "# Write a python program to filter the numbers in a given list that are divisible by 2 and 3 using the filter function\n",
    "# [2, 3, 6, 9, 27, 60, 90, 120, 55, 46]"
   ]
  },
  {
   "cell_type": "code",
   "execution_count": 39,
   "id": "36bd81e4-5198-4ef6-b39f-a0f02cb67b00",
   "metadata": {},
   "outputs": [
    {
     "data": {
      "text/plain": [
       "[6, 60, 90, 120]"
      ]
     },
     "execution_count": 39,
     "metadata": {},
     "output_type": "execute_result"
    }
   ],
   "source": [
    "lis=[2, 3, 6, 9, 27, 60, 90, 120, 55, 46]\n",
    "list(filter(lambda x:x%6==0,lis))"
   ]
  },
  {
   "cell_type": "markdown",
   "id": "81a1c9bf-6933-4be2-80db-aa306e902463",
   "metadata": {},
   "source": [
    "# QUESTION-6"
   ]
  },
  {
   "cell_type": "code",
   "execution_count": 40,
   "id": "af965ff3-c88e-463e-a613-be30a16dbe92",
   "metadata": {},
   "outputs": [],
   "source": [
    "# Write a python program to find palindromes in the given list of strings using lambda and filter function.\n",
    "# ['python', 'php', 'aba', 'radar', 'level']"
   ]
  },
  {
   "cell_type": "code",
   "execution_count": 2,
   "id": "8c4244eb-629e-4a74-a201-5b695c812967",
   "metadata": {},
   "outputs": [],
   "source": [
    "li=['python', 'php', 'aba', 'radar', 'level']"
   ]
  },
  {
   "cell_type": "code",
   "execution_count": 5,
   "id": "24734e12-b34e-4b0b-ac46-03d8c7de44cd",
   "metadata": {},
   "outputs": [
    {
     "data": {
      "text/plain": [
       "['php', 'aba', 'radar', 'level']"
      ]
     },
     "execution_count": 5,
     "metadata": {},
     "output_type": "execute_result"
    }
   ],
   "source": [
    "list(filter(lambda x: x if x==x[::-1] else 0,li))"
   ]
  },
  {
   "cell_type": "code",
   "execution_count": null,
   "id": "c2f7dbc8-9ece-4d5f-80f5-f778d8453303",
   "metadata": {},
   "outputs": [],
   "source": []
  }
 ],
 "metadata": {
  "kernelspec": {
   "display_name": "Python 3 (ipykernel)",
   "language": "python",
   "name": "python3"
  },
  "language_info": {
   "codemirror_mode": {
    "name": "ipython",
    "version": 3
   },
   "file_extension": ".py",
   "mimetype": "text/x-python",
   "name": "python",
   "nbconvert_exporter": "python",
   "pygments_lexer": "ipython3",
   "version": "3.10.8"
  }
 },
 "nbformat": 4,
 "nbformat_minor": 5
}
