{
 "cells": [
  {
   "cell_type": "markdown",
   "id": "e1e6ab78-1771-40d7-a83f-1eec050be69b",
   "metadata": {},
   "source": [
    "# QUESTION-1"
   ]
  },
  {
   "cell_type": "code",
   "execution_count": 1,
   "id": "024e0e54-d1db-4a09-8533-e0acbfea15a3",
   "metadata": {},
   "outputs": [],
   "source": [
    "#Which keyword is used to create a function? Create a function to return a list of odd numbers in the range of 1 to 25."
   ]
  },
  {
   "cell_type": "code",
   "execution_count": 22,
   "id": "7f88dace-d0fd-4b19-8e99-eed9a66118cb",
   "metadata": {},
   "outputs": [],
   "source": [
    "# 'def' is the keyword used to create a function\n",
    "def fxn(l):\n",
    "    n=[]\n",
    "    for i in l:\n",
    "        if i%2!=0:\n",
    "            n.append(i)\n",
    "    return n"
   ]
  },
  {
   "cell_type": "code",
   "execution_count": 26,
   "id": "b627c69f-f2b6-44a1-8fc1-7c19e292db25",
   "metadata": {},
   "outputs": [
    {
     "data": {
      "text/plain": [
       "[1, 3, 5, 7, 9, 11, 13, 15, 17, 19, 21, 23]"
      ]
     },
     "execution_count": 26,
     "metadata": {},
     "output_type": "execute_result"
    }
   ],
   "source": [
    "l=list(range(1,25))\n",
    "fxn(l)"
   ]
  },
  {
   "cell_type": "markdown",
   "id": "deaf9723-a07c-4f53-a0c5-e88110bdae7f",
   "metadata": {},
   "source": [
    "# QUESTION-2"
   ]
  },
  {
   "cell_type": "code",
   "execution_count": 27,
   "id": "dd46266d-6aee-4af3-bbed-5840a4689a0d",
   "metadata": {},
   "outputs": [],
   "source": [
    "# Why *args and **kwargs is used in some functions? Create a function each for *args and **kwargs to demonstrate their use."
   ]
  },
  {
   "cell_type": "code",
   "execution_count": 30,
   "id": "5f47d45b-2534-43ca-8054-16013e624a33",
   "metadata": {},
   "outputs": [],
   "source": [
    "''' \n",
    "   (*args-> arguments) we use this *args when we are unaware of how many inputs are to be given into a function.\n",
    "   (**kwargs->keyword arguments) when we want to pass argument as a dictionary into a function then we use this.\n",
    "'''\n",
    "def fxn1(*args):\n",
    "    l=[]\n",
    "    for i in args:\n",
    "        if type(i)==int:\n",
    "            l.append(i)\n",
    "    return l"
   ]
  },
  {
   "cell_type": "code",
   "execution_count": 31,
   "id": "cf6f1b0f-3946-4108-8ea3-5dcd445ddf88",
   "metadata": {},
   "outputs": [
    {
     "data": {
      "text/plain": [
       "[1, 2]"
      ]
     },
     "execution_count": 31,
     "metadata": {},
     "output_type": "execute_result"
    }
   ],
   "source": [
    "fxn1(1,2,3.69,'sai','krishna',True)"
   ]
  },
  {
   "cell_type": "code",
   "execution_count": 33,
   "id": "9d7fc1e1-8713-443f-96a9-0d0d0557e5db",
   "metadata": {},
   "outputs": [
    {
     "data": {
      "text/plain": [
       "dict"
      ]
     },
     "execution_count": 33,
     "metadata": {},
     "output_type": "execute_result"
    }
   ],
   "source": [
    "def fxn2(**kwargs):\n",
    "    return kwargs\n",
    "type(fxn2())"
   ]
  },
  {
   "cell_type": "code",
   "execution_count": 36,
   "id": "9e97ab69-63a7-460d-967a-256e8a66cabd",
   "metadata": {},
   "outputs": [
    {
     "data": {
      "text/plain": [
       "{'a': 21, 'b': 34, 'c': 45, 'd': [1, 2, 3], 'e': ('sai', 'krishna')}"
      ]
     },
     "execution_count": 36,
     "metadata": {},
     "output_type": "execute_result"
    }
   ],
   "source": [
    "fxn2(a=21,b=34,c=45,d=[1,2,3],e=('sai','krishna'))"
   ]
  },
  {
   "cell_type": "markdown",
   "id": "80e63854-65a5-4aca-a7f4-90614ddc0493",
   "metadata": {},
   "source": [
    "# QUESTION-3"
   ]
  },
  {
   "cell_type": "code",
   "execution_count": 38,
   "id": "ef9a2085-cce0-436f-befe-fc72e562e6c4",
   "metadata": {},
   "outputs": [],
   "source": [
    "# What is an iterator in python? Name the method used to initialise the iterator object and the method used for iteration.\n",
    "#  Use these methods to print the first five elements of the given list [2, 4, 6, 8, 10, 12, 14, 16,18, 20]."
   ]
  },
  {
   "cell_type": "markdown",
   "id": "e8f3b154-43f2-4cc2-9580-342d5bae46b5",
   "metadata": {},
   "source": [
    "#### In Python, an iterator is an object that allows you to iterate over collections of data, such as lists, tuples, dictionaries, and sets"
   ]
  },
  {
   "cell_type": "code",
   "execution_count": 39,
   "id": "4724e838-feb0-499e-9ae1-7e0c9fe7cb8c",
   "metadata": {},
   "outputs": [
    {
     "name": "stdout",
     "output_type": "stream",
     "text": [
      "2\n",
      "4\n",
      "6\n",
      "8\n",
      "10\n"
     ]
    }
   ],
   "source": [
    "# to initialise the iterator we use 'iter()' function\n",
    "list_given=[2, 4, 6, 8, 10, 12, 14, 16,18, 20]\n",
    "iteration=iter(list_given)\n",
    "print(next(iteration))\n",
    "print(next(iteration))\n",
    "print(next(iteration))\n",
    "print(next(iteration))\n",
    "print(next(iteration))"
   ]
  },
  {
   "cell_type": "markdown",
   "id": "f77acc39-2c33-4e71-b918-79adf6c7bda1",
   "metadata": {},
   "source": [
    "# QUESTION-4"
   ]
  },
  {
   "cell_type": "code",
   "execution_count": 40,
   "id": "62c0e7a6-d298-4849-a098-bb1137ebaf9f",
   "metadata": {},
   "outputs": [],
   "source": [
    "# What is a generator function in python? Why yield keyword is used? Give an example of a generator function."
   ]
  },
  {
   "cell_type": "markdown",
   "id": "4f359317-0540-46ce-9e32-35f63405c77e",
   "metadata": {},
   "source": [
    "####  In Python, generator function allows you to declare a function that behaves like an iterator, providing a faster and easier way to create iterators"
   ]
  },
  {
   "cell_type": "code",
   "execution_count": 41,
   "id": "d7df5911-dfd7-4a55-95e1-99c73a0f75ac",
   "metadata": {},
   "outputs": [],
   "source": [
    "# We should use yield when we want to iterate over a sequence, but don't want to store the entire sequence in memory\n",
    "# Yield is used in Python generators"
   ]
  },
  {
   "cell_type": "code",
   "execution_count": 42,
   "id": "062800f0-469a-43ad-a696-fa7f4e9a9bb4",
   "metadata": {},
   "outputs": [
    {
     "name": "stdout",
     "output_type": "stream",
     "text": [
      "0\n",
      "1\n",
      "1\n",
      "2\n",
      "3\n",
      "5\n",
      "8\n",
      "13\n",
      "21\n",
      "34\n"
     ]
    }
   ],
   "source": [
    "def fib(n):\n",
    "    a,b=0,1\n",
    "    for i in range(n):\n",
    "        yield a\n",
    "        a,b=b,a+b\n",
    "for i in fib(10):\n",
    "    print(i)"
   ]
  },
  {
   "cell_type": "markdown",
   "id": "3f7505ca-7a0f-46d7-baed-b0504845a792",
   "metadata": {},
   "source": [
    "# QUESTION-5"
   ]
  },
  {
   "cell_type": "code",
   "execution_count": 43,
   "id": "ff6a4e9e-c0ef-4792-b866-9d325a70df52",
   "metadata": {},
   "outputs": [],
   "source": [
    "# Create a generator function for prime numbers less than 1000. Use the next() method to print the first 20 prime numbers."
   ]
  },
  {
   "cell_type": "code",
   "execution_count": 47,
   "id": "6d2a4143-3f3b-4ae5-9467-d368715fe6b7",
   "metadata": {},
   "outputs": [],
   "source": [
    "def fun(n):\n",
    "    for i in range(1,n):\n",
    "        cout=0\n",
    "        for j in range(1,i+1):\n",
    "            if i%j==0:\n",
    "                cout+=1\n",
    "            else:\n",
    "                continue\n",
    "        if cout<3:\n",
    "            yield(i)"
   ]
  },
  {
   "cell_type": "code",
   "execution_count": 49,
   "id": "865afbab-b9b6-4277-b311-5830644a3bec",
   "metadata": {},
   "outputs": [
    {
     "data": {
      "text/plain": [
       "<generator object fun at 0x7ff402770040>"
      ]
     },
     "execution_count": 49,
     "metadata": {},
     "output_type": "execute_result"
    }
   ],
   "source": [
    "fun(1000)    "
   ]
  },
  {
   "cell_type": "code",
   "execution_count": 51,
   "id": "2ad75a73-b351-4cbf-9ef0-0ce3d690effd",
   "metadata": {},
   "outputs": [
    {
     "data": {
      "text/plain": [
       "[1, 2, 3, 5, 7, 11, 13, 17, 19]"
      ]
     },
     "execution_count": 51,
     "metadata": {},
     "output_type": "execute_result"
    }
   ],
   "source": [
    "list(fun(20))"
   ]
  },
  {
   "cell_type": "code",
   "execution_count": null,
   "id": "ebd9dc2f-6ccc-47c0-a6fa-533de53325db",
   "metadata": {},
   "outputs": [],
   "source": [
    "de"
   ]
  }
 ],
 "metadata": {
  "kernelspec": {
   "display_name": "Python 3 (ipykernel)",
   "language": "python",
   "name": "python3"
  },
  "language_info": {
   "codemirror_mode": {
    "name": "ipython",
    "version": 3
   },
   "file_extension": ".py",
   "mimetype": "text/x-python",
   "name": "python",
   "nbconvert_exporter": "python",
   "pygments_lexer": "ipython3",
   "version": "3.10.8"
  }
 },
 "nbformat": 4,
 "nbformat_minor": 5
}
