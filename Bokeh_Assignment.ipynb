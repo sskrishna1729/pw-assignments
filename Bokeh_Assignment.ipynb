{
 "cells": [
  {
   "cell_type": "markdown",
   "id": "b81e6a8d-c373-4b02-86ad-bd55c3f85f2e",
   "metadata": {},
   "source": [
    "# Question-1"
   ]
  },
  {
   "cell_type": "code",
   "execution_count": 3,
   "id": "2ceae046-0b05-4f76-99aa-3f01fabc1f59",
   "metadata": {},
   "outputs": [
    {
     "name": "stdout",
     "output_type": "stream",
     "text": [
      "Requirement already satisfied: bokeh in /opt/conda/lib/python3.10/site-packages (3.0.3)\n",
      "Requirement already satisfied: xyzservices>=2021.09.1 in /opt/conda/lib/python3.10/site-packages (from bokeh) (2022.9.0)\n",
      "Requirement already satisfied: numpy>=1.11.3 in /opt/conda/lib/python3.10/site-packages (from bokeh) (1.23.5)\n",
      "Requirement already satisfied: pandas>=1.2 in /opt/conda/lib/python3.10/site-packages (from bokeh) (1.5.2)\n",
      "Requirement already satisfied: pillow>=7.1.0 in /opt/conda/lib/python3.10/site-packages (from bokeh) (9.2.0)\n",
      "Requirement already satisfied: contourpy>=1 in /opt/conda/lib/python3.10/site-packages (from bokeh) (1.0.6)\n",
      "Requirement already satisfied: Jinja2>=2.9 in /opt/conda/lib/python3.10/site-packages (from bokeh) (3.1.2)\n",
      "Requirement already satisfied: tornado>=5.1 in /opt/conda/lib/python3.10/site-packages (from bokeh) (6.1)\n",
      "Requirement already satisfied: packaging>=16.8 in /opt/conda/lib/python3.10/site-packages (from bokeh) (22.0)\n",
      "Requirement already satisfied: PyYAML>=3.10 in /opt/conda/lib/python3.10/site-packages (from bokeh) (6.0)\n",
      "Requirement already satisfied: MarkupSafe>=2.0 in /opt/conda/lib/python3.10/site-packages (from Jinja2>=2.9->bokeh) (2.1.1)\n",
      "Requirement already satisfied: python-dateutil>=2.8.1 in /opt/conda/lib/python3.10/site-packages (from pandas>=1.2->bokeh) (2.8.2)\n",
      "Requirement already satisfied: pytz>=2020.1 in /opt/conda/lib/python3.10/site-packages (from pandas>=1.2->bokeh) (2022.6)\n",
      "Requirement already satisfied: six>=1.5 in /opt/conda/lib/python3.10/site-packages (from python-dateutil>=2.8.1->pandas>=1.2->bokeh) (1.16.0)\n",
      "Note: you may need to restart the kernel to use updated packages.\n"
     ]
    }
   ],
   "source": [
    "pip install bokeh"
   ]
  },
  {
   "cell_type": "code",
   "execution_count": 5,
   "id": "3058eff4-8141-46ba-8a0b-1d2e53738439",
   "metadata": {},
   "outputs": [],
   "source": [
    "from bokeh.plotting import figure, show\n",
    "# Create a Bokeh plot\n",
    "plot = figure(title=\"Example Bokeh Plot\", x_axis_label=\"X-axis\", y_axis_label=\"Y-axis\", width=400, height=400)\n",
    "# Add data to the plot\n",
    "x = [1, 2, 3, 4, 5]\n",
    "y = [2, 4, 6, 8, 10]\n",
    "plot.circle(x, y, size=10, color=\"blue\")\n",
    "# Customize the plot\n",
    "plot.line(x, y, line_color=\"red\", line_width=2)\n",
    "# Display the plot\n",
    "show(plot)\n"
   ]
  },
  {
   "cell_type": "markdown",
   "id": "e04a92ef-61ae-4872-9828-edeb9e2fbdd9",
   "metadata": {},
   "source": [
    "# Question-2"
   ]
  },
  {
   "cell_type": "markdown",
   "id": "ae6ee17e-983b-4d14-aa9b-2d023d12b75a",
   "metadata": {},
   "source": [
    "### In Bokeh, \"glyphs\" refer to geometric shapes or visual elements that you can use to represent data on a plot. Glyphs are the building blocks for creating visualizations. Common glyphs include circles, lines, rectangles, and other shapes that can be used to display data in various ways."
   ]
  },
  {
   "cell_type": "code",
   "execution_count": 6,
   "id": "5c8745b1-7e9f-4399-880e-e0318c48d0ee",
   "metadata": {},
   "outputs": [],
   "source": [
    "from bokeh.plotting import figure, show\n",
    "\n",
    "# Create a Bokeh plot\n",
    "plot = figure(title=\"Example Glyph Plot\", x_axis_label=\"X-axis\", y_axis_label=\"Y-axis\", width=400, height=400)\n",
    "\n",
    "# Add circles to the plot\n",
    "x = [1, 2, 3, 4, 5]\n",
    "y = [2, 4, 6, 8, 10]\n",
    "plot.circle(x, y, size=10, color=\"blue\", alpha=0.8)\n",
    "\n",
    "# Add a line to the plot\n",
    "plot.line(x, y, line_color=\"red\", line_width=2)\n",
    "\n",
    "# Display the plot\n",
    "show(plot)\n"
   ]
  },
  {
   "cell_type": "markdown",
   "id": "b14a335c-127a-4d8e-a7a2-0a0441951013",
   "metadata": {},
   "source": [
    "# Question-3"
   ]
  },
  {
   "cell_type": "code",
   "execution_count": 7,
   "id": "9d7a8cb4-b4d2-404c-a13e-95b3558f1691",
   "metadata": {},
   "outputs": [],
   "source": [
    "plot.title.text = \"Custom Plot Title\"\n"
   ]
  },
  {
   "cell_type": "code",
   "execution_count": 8,
   "id": "dc8cbb0a-44da-4c86-ae4f-083d5ef92196",
   "metadata": {},
   "outputs": [],
   "source": [
    "plot.xaxis.axis_label = \"Custom X-axis Label\"\n",
    "plot.yaxis.axis_label = \"Custom Y-axis Label\"\n",
    "\n",
    "# Customize axis ticks\n",
    "plot.xaxis.major_label_text_color = \"blue\"\n",
    "plot.yaxis.major_label_text_color = \"green\"\n"
   ]
  },
  {
   "cell_type": "code",
   "execution_count": 9,
   "id": "5f2e4133-e1a0-4f61-84ac-873d4b8283e9",
   "metadata": {},
   "outputs": [],
   "source": [
    "plot.circle(x, y, size=10, color=\"blue\", alpha=0.8, legend_label=\"Data Points\")\n",
    "\n",
    "# Customize the legend location\n",
    "plot.legend.location = \"top_left\"\n"
   ]
  },
  {
   "cell_type": "markdown",
   "id": "0993b2cb-2982-448a-bafe-4db8f2ee29a2",
   "metadata": {},
   "source": [
    "# Question-4"
   ]
  },
  {
   "cell_type": "code",
   "execution_count": null,
   "id": "77e876b1-f974-41d5-9288-861005b0b33c",
   "metadata": {},
   "outputs": [],
   "source": [
    "from bokeh.models import ColumnDataSource\n",
    "from bokeh.plotting import curdoc, figure\n",
    "from bokeh.models.widgets import Slider\n",
    "from bokeh.layouts import layout\n",
    "from bokeh.server.server import Server\n",
    "from bokeh.server.server import FunctionHandler\n",
    "from bokeh.server.server import Session\n"
   ]
  },
  {
   "cell_type": "code",
   "execution_count": null,
   "id": "9c1d0a55-b566-45f7-aabd-6d7568a2dcc7",
   "metadata": {},
   "outputs": [],
   "source": [
    "def update(attrname, old_val, new_val):\n",
    "    # Update your plot here based on the new_val\n",
    "    # Update the data source\n",
    "    new_data = your_update_function(new_val)\n",
    "    source.data = new_data\n"
   ]
  },
  {
   "cell_type": "code",
   "execution_count": null,
   "id": "d403beed-f774-4788-b4a0-d20c281e8f0a",
   "metadata": {},
   "outputs": [],
   "source": [
    "source = ColumnDataSource(data=initial_data)\n",
    "\n",
    "p = figure(...)  # Create your initial plot here\n",
    "p.line(\"x\", \"y\", source=source)  # Connect the line plot to the data source\n"
   ]
  },
  {
   "cell_type": "code",
   "execution_count": null,
   "id": "54724c99-6657-4d86-97d9-10c40f1f2421",
   "metadata": {},
   "outputs": [],
   "source": [
    "slider = Slider(title=\"Slider Title\", start=0, end=10, value=5, step=1)\n",
    "slider.on_change(\"value\", update)\n"
   ]
  },
  {
   "cell_type": "code",
   "execution_count": null,
   "id": "41c35eee-ff39-4475-a69a-2c307c31db88",
   "metadata": {},
   "outputs": [],
   "source": [
    "layout = layout([[slider], [p]])  # Layout with a slider and the plot\n"
   ]
  },
  {
   "cell_type": "code",
   "execution_count": null,
   "id": "851b4a89-2963-44d8-879e-bad8464368c0",
   "metadata": {},
   "outputs": [],
   "source": [
    "def create_app(doc):\n",
    "    doc.add_root(layout)\n",
    "bokeh serve your_script.py\n"
   ]
  },
  {
   "cell_type": "markdown",
   "id": "43a29b3d-9049-4e91-b4fe-6835eea03e07",
   "metadata": {},
   "source": [
    "# Question-5"
   ]
  },
  {
   "cell_type": "code",
   "execution_count": null,
   "id": "d70a9565-cb2e-4b68-9a91-ceca4d354d35",
   "metadata": {},
   "outputs": [],
   "source": [
    "from bokeh.plotting import figure, show, output_file\n",
    "\n",
    "# Create your Bokeh plot\n",
    "p = figure(title=\"My Bokeh Plot\", ...)\n",
    "\n",
    "# Configure your plot...\n",
    "\n",
    "# Save the plot to an HTML file\n",
    "output_file(\"my_plot.html\")\n",
    "show(p)\n"
   ]
  },
  {
   "cell_type": "code",
   "execution_count": null,
   "id": "24bdabcb-a2a8-4e41-a6b2-5e9132d813c3",
   "metadata": {},
   "outputs": [],
   "source": [
    "from flask import Flask, render_template\n",
    "\n",
    "app = Flask(__name__)\n",
    "\n",
    "@app.route('/')\n",
    "def index():\n",
    "    return render_template('bokeh_plot.html')\n",
    "\n",
    "if __name__ == '__main__':\n",
    "    app.run()\n"
   ]
  },
  {
   "cell_type": "code",
   "execution_count": null,
   "id": "35a4d614-0ea3-453f-a6c2-f72c34cfce66",
   "metadata": {},
   "outputs": [],
   "source": [
    "<!DOCTYPE html>\n",
    "<html>\n",
    "<head>\n",
    "    <title>My Web Page</title>\n",
    "</head>\n",
    "<body>\n",
    "    <h1>My Web Page</h1>\n",
    "    <iframe src=\"{{ url_for('static', filename='my_plot.html') }}\" frameborder=\"0\" width=\"100%\" height=\"500\"></iframe>\n",
    "</body>\n",
    "</html>\n"
   ]
  },
  {
   "cell_type": "code",
   "execution_count": null,
   "id": "29921cdd-b269-4a7a-9fa0-fd8b7bb05b94",
   "metadata": {},
   "outputs": [],
   "source": [
    "pip install django bokeh\n"
   ]
  },
  {
   "cell_type": "code",
   "execution_count": null,
   "id": "1fbe6c1b-98b8-4e9a-86b3-9da8bedca37d",
   "metadata": {},
   "outputs": [],
   "source": [
    "from django.shortcuts import render\n",
    "\n",
    "def plot_view(request):\n",
    "    return render(request, 'bokeh_plot.html')\n"
   ]
  }
 ],
 "metadata": {
  "kernelspec": {
   "display_name": "Python 3 (ipykernel)",
   "language": "python",
   "name": "python3"
  },
  "language_info": {
   "codemirror_mode": {
    "name": "ipython",
    "version": 3
   },
   "file_extension": ".py",
   "mimetype": "text/x-python",
   "name": "python",
   "nbconvert_exporter": "python",
   "pygments_lexer": "ipython3",
   "version": "3.10.8"
  }
 },
 "nbformat": 4,
 "nbformat_minor": 5
}
