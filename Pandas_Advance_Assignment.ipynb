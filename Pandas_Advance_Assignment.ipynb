{
 "cells": [
  {
   "cell_type": "markdown",
   "id": "c8ed86ed-0f2d-4c29-a8f7-01e275c518a7",
   "metadata": {},
   "source": [
    "# Question-1"
   ]
  },
  {
   "cell_type": "code",
   "execution_count": null,
   "id": "7f3c7d67-8198-4568-bfa0-7121511c0634",
   "metadata": {},
   "outputs": [],
   "source": [
    "import pandas as pd\n",
    "\n",
    "# Read a CSV file into a DataFrame\n",
    "df = pd.read_csv('data.csv')"
   ]
  },
  {
   "cell_type": "code",
   "execution_count": null,
   "id": "c8948697-a272-49ae-ac21-f31a6353df47",
   "metadata": {},
   "outputs": [],
   "source": [
    "# Display the first 5 rows of the DataFrame\n",
    "df.head()"
   ]
  },
  {
   "cell_type": "code",
   "execution_count": null,
   "id": "c8aa8485-2ff2-4892-b36e-3f3384e2d62b",
   "metadata": {},
   "outputs": [],
   "source": [
    "# Get information about the DataFrame\n",
    "df.info()"
   ]
  },
  {
   "cell_type": "code",
   "execution_count": null,
   "id": "9d0f361a-a5ea-4e2d-bcd3-f93794bd2866",
   "metadata": {},
   "outputs": [],
   "source": [
    "# Group data by a 'category' column and calculate the mean of 'value' for each group\n",
    "grouped = df.groupby('category')['value'].mean()"
   ]
  },
  {
   "cell_type": "code",
   "execution_count": null,
   "id": "6fc59dfc-276f-4b14-ab45-41409a8ddcbb",
   "metadata": {},
   "outputs": [],
   "source": [
    "import matplotlib.pyplot as plt\n",
    "\n",
    "# Create a line plot of a column\n",
    "df['column_name'].plot(kind='line')\n",
    "plt.xlabel('X-Axis Label')\n",
    "plt.ylabel('Y-Axis Label')\n",
    "plt.title('Title of the Plot')\n",
    "plt.show()"
   ]
  },
  {
   "cell_type": "markdown",
   "id": "e3a5d1e9-8de2-4197-b7b8-d8cf136982ac",
   "metadata": {},
   "source": [
    "# Question-2"
   ]
  },
  {
   "cell_type": "code",
   "execution_count": 1,
   "id": "8479d9b9-3d60-4d62-8fe5-c3c58136a52c",
   "metadata": {},
   "outputs": [
    {
     "name": "stdout",
     "output_type": "stream",
     "text": [
      "    A   B   C\n",
      "1  10  40  70\n",
      "3  20  50  80\n",
      "5  30  60  90\n"
     ]
    }
   ],
   "source": [
    "import pandas as pd\n",
    "\n",
    "def reindex_with_custom_index(df):\n",
    "    # Create a new custom index array starting from 1 and incrementing by 2\n",
    "    new_index = range(1, len(df) * 2, 2)\n",
    "    \n",
    "    # Set the custom index on the DataFrame\n",
    "    df = df.set_index(pd.Index(new_index))\n",
    "    \n",
    "    return df\n",
    "\n",
    "# Example usage:\n",
    "data = {'A': [10, 20, 30], 'B': [40, 50, 60], 'C': [70, 80, 90]}\n",
    "df = pd.DataFrame(data)\n",
    "\n",
    "# Re-index the DataFrame\n",
    "df = reindex_with_custom_index(df)\n",
    "\n",
    "# Display the updated DataFrame\n",
    "print(df)\n"
   ]
  },
  {
   "cell_type": "markdown",
   "id": "dd7c26f4-d924-4090-9c72-15eaa70f24ed",
   "metadata": {},
   "source": [
    "# Question-3"
   ]
  },
  {
   "cell_type": "code",
   "execution_count": 2,
   "id": "7c89f2b9-7f17-4bde-a5f7-9e1098186cd5",
   "metadata": {},
   "outputs": [
    {
     "name": "stdout",
     "output_type": "stream",
     "text": [
      "Sum of the first three values: 60\n"
     ]
    }
   ],
   "source": [
    "import pandas as pd\n",
    "\n",
    "def calculate_sum_of_first_three_values(df):\n",
    "    # Check if the 'Values' column exists in the DataFrame\n",
    "    if 'Values' in df.columns:\n",
    "        # Select the first three values from the 'Values' column and calculate their sum\n",
    "        first_three_values = df['Values'][:3]\n",
    "        total_sum = first_three_values.sum()\n",
    "        \n",
    "        # Print the sum to the console\n",
    "        print(\"Sum of the first three values:\", total_sum)\n",
    "    else:\n",
    "        print(\"The 'Values' column does not exist in the DataFrame.\")\n",
    "\n",
    "# Example usage:\n",
    "data = {'Values': [10, 20, 30, 40, 50]}\n",
    "df = pd.DataFrame(data)\n",
    "\n",
    "# Calculate and print the sum of the first three values\n",
    "calculate_sum_of_first_three_values(df)\n"
   ]
  },
  {
   "cell_type": "markdown",
   "id": "631656c0-cdf2-4d30-8585-377765ffe241",
   "metadata": {},
   "source": [
    "# Question-4"
   ]
  },
  {
   "cell_type": "code",
   "execution_count": 3,
   "id": "2f0b248d-20fd-45fc-a7fd-28e1cde6bbcf",
   "metadata": {},
   "outputs": [
    {
     "name": "stdout",
     "output_type": "stream",
     "text": [
      "                             Text  Word_Count\n",
      "0      This is a sample sentence.           5\n",
      "1  Another example of a sentence.           5\n",
      "2              Just a short text.           4\n"
     ]
    }
   ],
   "source": [
    "import pandas as pd\n",
    "\n",
    "def add_word_count_column(df):\n",
    "    # Use the str.split() method to split the 'Text' column by whitespace and count the words\n",
    "    df['Word_Count'] = df['Text'].str.split().apply(len)\n",
    "\n",
    "# Example usage:\n",
    "data = {'Text': ['This is a sample sentence.',\n",
    "                 'Another example of a sentence.',\n",
    "                 'Just a short text.']}\n",
    "df = pd.DataFrame(data)\n",
    "\n",
    "# Add the 'Word_Count' column to the DataFrame\n",
    "add_word_count_column(df)\n",
    "\n",
    "# Display the updated DataFrame\n",
    "print(df)\n"
   ]
  },
  {
   "cell_type": "markdown",
   "id": "6ad0e685-6eab-4121-a983-0f4d5843c5b7",
   "metadata": {},
   "source": [
    "# Question-5"
   ]
  },
  {
   "cell_type": "markdown",
   "id": "2874b735-7832-4d81-96e4-09f7a55c0e6a",
   "metadata": {},
   "source": [
    "## DataFrame.size:\n",
    "\n",
    "### DataFrame.size returns the total number of elements in the DataFrame. It calculates the size by multiplying the number of rows by the number of columns.\n",
    "### It provides the total count of individual elements in the DataFrame, including all cells, regardless of their values or data types."
   ]
  },
  {
   "cell_type": "code",
   "execution_count": 5,
   "id": "abe4abef-58ae-4597-8aeb-49a18d2c8a25",
   "metadata": {},
   "outputs": [],
   "source": [
    "import pandas as pd\n",
    "\n",
    "data = {'A': [1, 2, 3], 'B': [4, 5, 6]}\n",
    "df = pd.DataFrame(data)\n",
    "\n",
    "size = df.size  # This will return 6 (3 rows * 2 columns)"
   ]
  },
  {
   "cell_type": "markdown",
   "id": "aaff4d2b-90f8-4ede-afbc-e1b68f1acb17",
   "metadata": {},
   "source": [
    "## DataFrame.shape:\n",
    "\n",
    "### DataFrame.shape returns a tuple representing the dimensions of the DataFrame, where the first element is the number of rows, and the second element is the number of columns.\n",
    "### It provides structural information about the DataFrame, including the number of rows and columns.\n",
    "### It returns a tuple (number_of_rows, number_of_columns)."
   ]
  },
  {
   "cell_type": "code",
   "execution_count": 6,
   "id": "71d7f5ef-5e5c-4327-908c-728dacc94294",
   "metadata": {},
   "outputs": [],
   "source": [
    "import pandas as pd\n",
    "\n",
    "data = {'A': [1, 2, 3], 'B': [4, 5, 6]}\n",
    "df = pd.DataFrame(data)\n",
    "\n",
    "shape = df.shape  # This will return (3, 2) since there are 3 rows and 2 columns."
   ]
  },
  {
   "cell_type": "markdown",
   "id": "7369e674-57cd-4fb2-a653-4d91eb139320",
   "metadata": {},
   "source": [
    "# Question-6"
   ]
  },
  {
   "cell_type": "code",
   "execution_count": null,
   "id": "912259ea-509e-4480-a2cc-005b8fd9957d",
   "metadata": {},
   "outputs": [],
   "source": [
    "import pandas as pd\n",
    "\n",
    "# Read an Excel file into a DataFrame\n",
    "df = pd.read_excel('your_file.xlsx')"
   ]
  },
  {
   "cell_type": "markdown",
   "id": "fe3ed8e2-96c9-487b-a4fc-97315ec68e6c",
   "metadata": {},
   "source": [
    "# Question-7"
   ]
  },
  {
   "cell_type": "code",
   "execution_count": 8,
   "id": "f42f14f1-605b-4cd5-b307-055238834ca2",
   "metadata": {},
   "outputs": [
    {
     "name": "stdout",
     "output_type": "stream",
     "text": [
      "                    Email    Username\n",
      "0    john.doe@example.com    john.doe\n",
      "1  jane.smith@example.com  jane.smith\n",
      "2         bob@example.com         bob\n"
     ]
    }
   ],
   "source": [
    "import pandas as pd\n",
    "\n",
    "def extract_username(df):\n",
    "    # Use str.split() to split the 'Email' column at the '@' symbol and get the first part (the username)\n",
    "    df['Username'] = df['Email'].str.split('@').str.get(0)\n",
    "\n",
    "# Example usage:\n",
    "data = {'Email': ['john.doe@example.com', 'jane.smith@example.com', 'bob@example.com']}\n",
    "df = pd.DataFrame(data)\n",
    "\n",
    "# Extract and store the usernames in the 'Username' column\n",
    "extract_username(df)\n",
    "\n",
    "# Display the updated DataFrame\n",
    "print(df)\n"
   ]
  },
  {
   "cell_type": "markdown",
   "id": "72834abd-a1ba-4268-a17d-780dcc561fa2",
   "metadata": {},
   "source": [
    "# Question-8"
   ]
  },
  {
   "cell_type": "code",
   "execution_count": 9,
   "id": "fea9777e-66e0-48ca-acce-931afe055e76",
   "metadata": {},
   "outputs": [
    {
     "name": "stdout",
     "output_type": "stream",
     "text": [
      "   A  B  C\n",
      "1  8  2  7\n",
      "2  6  9  4\n",
      "4  9  1  2\n"
     ]
    }
   ],
   "source": [
    "import pandas as pd\n",
    "\n",
    "def select_rows(df):\n",
    "    # Use boolean indexing to select rows where 'A' > 5 and 'B' < 10\n",
    "    selected_rows = df[(df['A'] > 5) & (df['B'] < 10)]\n",
    "    \n",
    "    return selected_rows\n",
    "\n",
    "# Example usage:\n",
    "data = {'A': [3, 8, 6, 2, 9],\n",
    "        'B': [5, 2, 9, 3, 1],\n",
    "        'C': [1, 7, 4, 5, 2]}\n",
    "\n",
    "df = pd.DataFrame(data)\n",
    "\n",
    "# Select rows where 'A' > 5 and 'B' < 10\n",
    "selected_df = select_rows(df)\n",
    "\n",
    "# Display the selected DataFrame\n",
    "print(selected_df)\n"
   ]
  },
  {
   "cell_type": "markdown",
   "id": "aeebd650-32b7-478c-88ef-6cf625a26cbd",
   "metadata": {},
   "source": [
    "# Question-9"
   ]
  },
  {
   "cell_type": "code",
   "execution_count": 10,
   "id": "b3504f22-e6f3-4c36-a40e-70f833606c5b",
   "metadata": {},
   "outputs": [
    {
     "name": "stdout",
     "output_type": "stream",
     "text": [
      "Mean: 30.0\n",
      "Median: 30.0\n",
      "Standard Deviation: 15.811388300841896\n"
     ]
    }
   ],
   "source": [
    "import pandas as pd\n",
    "\n",
    "def calculate_stats(df):\n",
    "    # Calculate the mean, median, and standard deviation of the 'Values' column\n",
    "    mean_value = df['Values'].mean()\n",
    "    median_value = df['Values'].median()\n",
    "    std_deviation = df['Values'].std()\n",
    "    \n",
    "    return mean_value, median_value, std_deviation\n",
    "\n",
    "# Example usage:\n",
    "data = {'Values': [10, 20, 30, 40, 50]}\n",
    "df = pd.DataFrame(data)\n",
    "\n",
    "# Calculate mean, median, and standard deviation\n",
    "mean, median, std = calculate_stats(df)\n",
    "\n",
    "# Print the results\n",
    "print(\"Mean:\", mean)\n",
    "print(\"Median:\", median)\n",
    "print(\"Standard Deviation:\", std)\n"
   ]
  },
  {
   "cell_type": "markdown",
   "id": "83b7e016-ab6e-4ba7-86b5-80224a2ddd35",
   "metadata": {},
   "source": [
    "# Question-10"
   ]
  },
  {
   "cell_type": "code",
   "execution_count": 11,
   "id": "2b7b6968-b438-4198-a9d9-4d9ff802fd7f",
   "metadata": {},
   "outputs": [
    {
     "name": "stdout",
     "output_type": "stream",
     "text": [
      "        Date  Sales  MovingAverage\n",
      "0 2023-01-01     10           10.0\n",
      "1 2023-01-02     15           12.5\n",
      "2 2023-01-03     20           15.0\n",
      "3 2023-01-04     25           17.5\n",
      "4 2023-01-05     30           20.0\n"
     ]
    }
   ],
   "source": [
    "import pandas as pd\n",
    "\n",
    "def calculate_moving_average(df):\n",
    "    # Sort the DataFrame by the 'Date' column (if not already sorted)\n",
    "    df['Date'] = pd.to_datetime(df['Date'])\n",
    "    df = df.sort_values(by='Date')\n",
    "\n",
    "    # Calculate the moving average over a rolling window of the past 7 days\n",
    "    df['MovingAverage'] = df['Sales'].rolling(window=7, min_periods=1).mean()\n",
    "\n",
    "    return df\n",
    "\n",
    "# Example usage:\n",
    "data = {'Date': ['2023-01-01', '2023-01-02', '2023-01-03', '2023-01-04', '2023-01-05'],\n",
    "        'Sales': [10, 15, 20, 25, 30]}\n",
    "\n",
    "df = pd.DataFrame(data)\n",
    "\n",
    "# Calculate the moving average and add it to the DataFrame\n",
    "df = calculate_moving_average(df)\n",
    "\n",
    "# Display the updated DataFrame\n",
    "print(df)\n"
   ]
  },
  {
   "cell_type": "markdown",
   "id": "d4aacd9d-a27e-42a0-ba79-c204b0b6f38b",
   "metadata": {},
   "source": [
    "# Question-11"
   ]
  },
  {
   "cell_type": "code",
   "execution_count": 12,
   "id": "f87db4e6-5f39-423a-adb8-3857adcaa8d2",
   "metadata": {},
   "outputs": [
    {
     "name": "stdout",
     "output_type": "stream",
     "text": [
      "        Date    Weekday\n",
      "0 2023-01-01     Sunday\n",
      "1 2023-01-02     Monday\n",
      "2 2023-01-03    Tuesday\n",
      "3 2023-01-04  Wednesday\n",
      "4 2023-01-05   Thursday\n"
     ]
    }
   ],
   "source": [
    "import pandas as pd\n",
    "\n",
    "def add_weekday_column(df):\n",
    "    # Convert the 'Date' column to a datetime type\n",
    "    df['Date'] = pd.to_datetime(df['Date'])\n",
    "    \n",
    "    # Create a new 'Weekday' column with weekday names\n",
    "    df['Weekday'] = df['Date'].dt.strftime('%A')\n",
    "\n",
    "    return df\n",
    "\n",
    "# Example usage:\n",
    "data = {'Date': ['2023-01-01', '2023-01-02', '2023-01-03', '2023-01-04', '2023-01-05']}\n",
    "df = pd.DataFrame(data)\n",
    "\n",
    "# Add the 'Weekday' column to the DataFrame\n",
    "df = add_weekday_column(df)\n",
    "\n",
    "# Display the updated DataFrame\n",
    "print(df)\n"
   ]
  },
  {
   "cell_type": "markdown",
   "id": "d89d0267-322c-4cee-be70-0e8e9116a6c9",
   "metadata": {},
   "source": [
    "# Question-12"
   ]
  },
  {
   "cell_type": "code",
   "execution_count": 14,
   "id": "6dd26ea1-f77a-400d-a932-cc2f975d5759",
   "metadata": {},
   "outputs": [
    {
     "name": "stdout",
     "output_type": "stream",
     "text": [
      "        Date\n",
      "0 2023-01-05\n",
      "1 2023-01-15\n",
      "3 2023-01-25\n"
     ]
    }
   ],
   "source": [
    "import pandas as pd\n",
    "\n",
    "def select_rows_between_dates(df):\n",
    "    # Convert the 'Date' column to a datetime type (if not already)\n",
    "    df['Date'] = pd.to_datetime(df['Date'])\n",
    "    \n",
    "    # Define the start and end date range\n",
    "    start_date = pd.to_datetime('2023-01-01')\n",
    "    end_date = pd.to_datetime('2023-01-31')\n",
    "    \n",
    "    # Use boolean indexing to select rows within the date range\n",
    "    selected_rows = df[(df['Date'] >= start_date) & (df['Date'] <= end_date)]\n",
    "    \n",
    "    return selected_rows\n",
    "\n",
    "# Example usage:\n",
    "data = {'Date': ['2023-01-05', '2023-01-15', '2023-02-10', '2023-01-25']}\n",
    "df = pd.DataFrame(data)\n",
    "\n",
    "# Select rows between '2023-01-01' and '2023-01-31'\n",
    "selected_df = select_rows_between_dates(df)\n",
    "\n",
    "# Display the selected DataFrame\n",
    "print(selected_df)\n"
   ]
  },
  {
   "cell_type": "markdown",
   "id": "c1d7733e-3c46-4a04-865a-5ade78a720fb",
   "metadata": {},
   "source": [
    "# Question-13"
   ]
  },
  {
   "cell_type": "code",
   "execution_count": 16,
   "id": "6ea6cf16-9377-4ed2-b803-1ea70de17fae",
   "metadata": {},
   "outputs": [],
   "source": [
    "import pandas as pd"
   ]
  }
 ],
 "metadata": {
  "kernelspec": {
   "display_name": "Python 3 (ipykernel)",
   "language": "python",
   "name": "python3"
  },
  "language_info": {
   "codemirror_mode": {
    "name": "ipython",
    "version": 3
   },
   "file_extension": ".py",
   "mimetype": "text/x-python",
   "name": "python",
   "nbconvert_exporter": "python",
   "pygments_lexer": "ipython3",
   "version": "3.10.8"
  }
 },
 "nbformat": 4,
 "nbformat_minor": 5
}
