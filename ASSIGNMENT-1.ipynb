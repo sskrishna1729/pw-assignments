{
 "cells": [
  {
   "cell_type": "code",
   "execution_count": 1,
   "id": "a5378ed1-e7c3-43b1-a5ee-452320a7bc7e",
   "metadata": {},
   "outputs": [],
   "source": [
    "#QUESTION-1"
   ]
  },
  {
   "cell_type": "code",
   "execution_count": 2,
   "id": "61583725-d2b2-44ad-9b38-cdfc720af090",
   "metadata": {},
   "outputs": [
    {
     "data": {
      "text/plain": [
       "str"
      ]
     },
     "execution_count": 2,
     "metadata": {},
     "output_type": "execute_result"
    }
   ],
   "source": [
    "S='SAIKRISHNA PACHALA'\n",
    "type(S)"
   ]
  },
  {
   "cell_type": "code",
   "execution_count": 4,
   "id": "a82f0eb4-2a08-4b27-a0cf-8fd8b66e502e",
   "metadata": {},
   "outputs": [
    {
     "data": {
      "text/plain": [
       "list"
      ]
     },
     "execution_count": 4,
     "metadata": {},
     "output_type": "execute_result"
    }
   ],
   "source": [
    "L=[1,36.76,'BOB',bool]\n",
    "type(L)"
   ]
  },
  {
   "cell_type": "code",
   "execution_count": 5,
   "id": "68f93062-9bb7-4f5d-b07b-1ac779a5d224",
   "metadata": {},
   "outputs": [
    {
     "data": {
      "text/plain": [
       "float"
      ]
     },
     "execution_count": 5,
     "metadata": {},
     "output_type": "execute_result"
    }
   ],
   "source": [
    "x=99.99\n",
    "type(x)"
   ]
  },
  {
   "cell_type": "code",
   "execution_count": 8,
   "id": "0be63e94-7e3c-4d83-909e-e3e4bb63fdd4",
   "metadata": {},
   "outputs": [
    {
     "data": {
      "text/plain": [
       "list"
      ]
     },
     "execution_count": 8,
     "metadata": {},
     "output_type": "execute_result"
    }
   ],
   "source": [
    "y=['1','s','76.7']\n",
    "type(y)"
   ]
  },
  {
   "cell_type": "code",
   "execution_count": 9,
   "id": "9d1e2c1f-f0a7-46ba-88d9-772eaf21cb28",
   "metadata": {},
   "outputs": [],
   "source": [
    "# QUESTION-2"
   ]
  },
  {
   "cell_type": "code",
   "execution_count": 12,
   "id": "39c7b5bf-23ab-4439-a9d1-7252ab62611e",
   "metadata": {},
   "outputs": [],
   "source": [
    " var1 =''\n",
    " var2 = '[ DS , ML , Python]'\n",
    " var3 = [ 'DS' , 'ML' , 'Python' ]\n",
    " var4 = 1"
   ]
  },
  {
   "cell_type": "code",
   "execution_count": 13,
   "id": "cf4d79e1-a016-49b6-829a-22bc8f221e57",
   "metadata": {},
   "outputs": [
    {
     "data": {
      "text/plain": [
       "str"
      ]
     },
     "execution_count": 13,
     "metadata": {},
     "output_type": "execute_result"
    }
   ],
   "source": [
    "type(var1)"
   ]
  },
  {
   "cell_type": "code",
   "execution_count": 14,
   "id": "75ebdbcf-76fc-45af-8bcd-a17c92982e9c",
   "metadata": {},
   "outputs": [
    {
     "data": {
      "text/plain": [
       "str"
      ]
     },
     "execution_count": 14,
     "metadata": {},
     "output_type": "execute_result"
    }
   ],
   "source": [
    "type(var2)"
   ]
  },
  {
   "cell_type": "code",
   "execution_count": 15,
   "id": "8c24e7b7-89c3-4a12-bc32-1f7965f8bf5b",
   "metadata": {},
   "outputs": [
    {
     "data": {
      "text/plain": [
       "list"
      ]
     },
     "execution_count": 15,
     "metadata": {},
     "output_type": "execute_result"
    }
   ],
   "source": [
    "type(var3)"
   ]
  },
  {
   "cell_type": "code",
   "execution_count": 16,
   "id": "dca8bfea-5467-4011-ad48-a8e4e35d716e",
   "metadata": {},
   "outputs": [
    {
     "data": {
      "text/plain": [
       "int"
      ]
     },
     "execution_count": 16,
     "metadata": {},
     "output_type": "execute_result"
    }
   ],
   "source": [
    "type(var4)"
   ]
  },
  {
   "cell_type": "code",
   "execution_count": 17,
   "id": "0c7255a6-414a-4a8b-a04f-ae0543717971",
   "metadata": {},
   "outputs": [],
   "source": [
    "#QUESTION-3"
   ]
  },
  {
   "cell_type": "code",
   "execution_count": 24,
   "id": "46e33024-1e2e-453e-8ef4-a1dff228de6d",
   "metadata": {},
   "outputs": [
    {
     "data": {
      "text/plain": [
       "8.25"
      ]
     },
     "execution_count": 24,
     "metadata": {},
     "output_type": "execute_result"
    }
   ],
   "source": [
    "33/4"
   ]
  },
  {
   "cell_type": "code",
   "execution_count": 19,
   "id": "a0026ac2-8b91-4f36-800d-a073cbfe13e0",
   "metadata": {},
   "outputs": [
    {
     "data": {
      "text/plain": [
       "10"
      ]
     },
     "execution_count": 19,
     "metadata": {},
     "output_type": "execute_result"
    }
   ],
   "source": [
    "33%23"
   ]
  },
  {
   "cell_type": "code",
   "execution_count": 23,
   "id": "e178963b-7acc-4a4b-a22e-de490430d00f",
   "metadata": {},
   "outputs": [
    {
     "data": {
      "text/plain": [
       "8"
      ]
     },
     "execution_count": 23,
     "metadata": {},
     "output_type": "execute_result"
    }
   ],
   "source": [
    "33//4"
   ]
  },
  {
   "cell_type": "code",
   "execution_count": 25,
   "id": "38c0f162-e3fa-49e1-923f-895bb8ecbfc0",
   "metadata": {},
   "outputs": [
    {
     "data": {
      "text/plain": [
       "16"
      ]
     },
     "execution_count": 25,
     "metadata": {},
     "output_type": "execute_result"
    }
   ],
   "source": [
    "4**2"
   ]
  },
  {
   "cell_type": "code",
   "execution_count": 26,
   "id": "d8c5144a-395e-4aff-92c4-972d05a3ba13",
   "metadata": {},
   "outputs": [],
   "source": [
    "#QUESTION-4"
   ]
  },
  {
   "cell_type": "code",
   "execution_count": 28,
   "id": "67118129-f87f-4944-9a41-da2d56ac2276",
   "metadata": {},
   "outputs": [
    {
     "name": "stdout",
     "output_type": "stream",
     "text": [
      "1\n",
      "2\n",
      "bob\n",
      "sob\n",
      "rob\n",
      "5.6\n",
      "<class 'bool'>\n"
     ]
    }
   ],
   "source": [
    "l=[1,2,'bob','sob','rob',5.6,bool]\n",
    "for i in l:\n",
    "    print(i)"
   ]
  },
  {
   "cell_type": "code",
   "execution_count": 29,
   "id": "8a0059b0-82f9-429d-8173-959cf54472d0",
   "metadata": {},
   "outputs": [],
   "source": [
    "#QUESTION-5"
   ]
  },
  {
   "cell_type": "code",
   "execution_count": null,
   "id": "1f49b88c-d4be-4bef-8536-8f0f743f33ea",
   "metadata": {},
   "outputs": [],
   "source": [
    "a=int(input(enter the value of a:))\n",
    "b=int(input(enter the value of b:))\n",
    "while :\n",
    "    x=a%b\n",
    "    if a is int:\n",
    "        print('a is completely divisible by b')"
   ]
  },
  {
   "cell_type": "code",
   "execution_count": 30,
   "id": "129dbaf8-d61f-4768-b4d4-9a316d1bfa11",
   "metadata": {},
   "outputs": [],
   "source": [
    "#QUESTION-6"
   ]
  },
  {
   "cell_type": "code",
   "execution_count": 33,
   "id": "b8a893a9-6cb5-4c48-98b2-ed47f35de750",
   "metadata": {},
   "outputs": [
    {
     "name": "stdout",
     "output_type": "stream",
     "text": [
      "1  is not divisible by 3\n",
      "2  is not divisible by 3\n",
      "3  is divisible by 3\n",
      "4  is not divisible by 3\n",
      "5  is not divisible by 3\n",
      "6  is divisible by 3\n",
      "7  is not divisible by 3\n",
      "8  is not divisible by 3\n",
      "9  is divisible by 3\n",
      "10  is not divisible by 3\n",
      "11  is not divisible by 3\n",
      "12  is divisible by 3\n",
      "13  is not divisible by 3\n",
      "14  is not divisible by 3\n",
      "15  is divisible by 3\n",
      "16  is not divisible by 3\n",
      "17  is not divisible by 3\n",
      "18  is divisible by 3\n",
      "19  is not divisible by 3\n",
      "20  is not divisible by 3\n",
      "21  is divisible by 3\n",
      "22  is not divisible by 3\n",
      "23  is not divisible by 3\n",
      "24  is divisible by 3\n",
      "25  is not divisible by 3\n"
     ]
    }
   ],
   "source": [
    "L=[1,2,3,4,5,6,7,8,9,10,11,12,13,14,15,16,17,18,19,20,21,22,23,24,25]\n",
    "for i in L:\n",
    "    if i%3==0:\n",
    "        print(i,' is divisible by 3')\n",
    "    else:\n",
    "        print(i,' is not divisible by 3')"
   ]
  },
  {
   "cell_type": "code",
   "execution_count": 34,
   "id": "313d19d7-476c-4046-a98c-6e5134a39c27",
   "metadata": {},
   "outputs": [],
   "source": [
    "#QUESTION-7\n",
    "MUTABLE->IN THIS WE CAN INSERT AN ITEM\n",
    "IMMUTABLE->IN THIS WE CANNOT INSERT ITEM"
   ]
  },
  {
   "cell_type": "code",
   "execution_count": 35,
   "id": "69381151-5d7b-4047-8327-fe78d43a9634",
   "metadata": {},
   "outputs": [
    {
     "data": {
      "text/plain": [
       "[1,\n",
       " 2,\n",
       " 3,\n",
       " 4,\n",
       " 99,\n",
       " 6,\n",
       " 7,\n",
       " 8,\n",
       " 9,\n",
       " 10,\n",
       " 11,\n",
       " 12,\n",
       " 13,\n",
       " 14,\n",
       " 15,\n",
       " 16,\n",
       " 17,\n",
       " 18,\n",
       " 19,\n",
       " 20,\n",
       " 21,\n",
       " 22,\n",
       " 23,\n",
       " 24,\n",
       " 25]"
      ]
     },
     "execution_count": 35,
     "metadata": {},
     "output_type": "execute_result"
    }
   ],
   "source": [
    "L=[1,2,3,4,5,6,7,8,9,10,11,12,13,14,15,16,17,18,19,20,21,22,23,24,25]\n",
    "L[4]=99\n",
    "L"
   ]
  },
  {
   "cell_type": "code",
   "execution_count": 36,
   "id": "db906104-804e-4b12-9faa-69977678c5a5",
   "metadata": {},
   "outputs": [
    {
     "ename": "TypeError",
     "evalue": "'str' object does not support item assignment",
     "output_type": "error",
     "traceback": [
      "\u001b[0;31m---------------------------------------------------------------------------\u001b[0m",
      "\u001b[0;31mTypeError\u001b[0m                                 Traceback (most recent call last)",
      "Cell \u001b[0;32mIn[36], line 2\u001b[0m\n\u001b[1;32m      1\u001b[0m S\u001b[38;5;241m=\u001b[39m\u001b[38;5;124m'\u001b[39m\u001b[38;5;124mSAIKRISHNA\u001b[39m\u001b[38;5;124m'\u001b[39m\n\u001b[0;32m----> 2\u001b[0m \u001b[43mS\u001b[49m\u001b[43m[\u001b[49m\u001b[38;5;241;43m4\u001b[39;49m\u001b[43m]\u001b[49m\u001b[38;5;241m=\u001b[39m\u001b[38;5;124m'\u001b[39m\u001b[38;5;124mF\u001b[39m\u001b[38;5;124m'\u001b[39m\n\u001b[1;32m      3\u001b[0m S\n",
      "\u001b[0;31mTypeError\u001b[0m: 'str' object does not support item assignment"
     ]
    }
   ],
   "source": [
    "S='SAIKRISHNA'\n",
    "S[4]='F'\n",
    "S"
   ]
  },
  {
   "cell_type": "code",
   "execution_count": null,
   "id": "04a4e480-e76e-4cd2-be38-fcc9d597fa04",
   "metadata": {},
   "outputs": [],
   "source": []
  }
 ],
 "metadata": {
  "kernelspec": {
   "display_name": "Python 3 (ipykernel)",
   "language": "python",
   "name": "python3"
  },
  "language_info": {
   "codemirror_mode": {
    "name": "ipython",
    "version": 3
   },
   "file_extension": ".py",
   "mimetype": "text/x-python",
   "name": "python",
   "nbconvert_exporter": "python",
   "pygments_lexer": "ipython3",
   "version": "3.10.8"
  }
 },
 "nbformat": 4,
 "nbformat_minor": 5
}
